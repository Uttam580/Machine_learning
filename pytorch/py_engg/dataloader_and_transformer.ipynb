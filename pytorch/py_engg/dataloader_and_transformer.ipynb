{
 "cells": [
  {
   "cell_type": "code",
   "execution_count": 1,
   "metadata": {},
   "outputs": [],
   "source": [
    "#importing librabries\n",
    "import torch\n",
    "import torchvision\n",
    "from torch.utils.data import Dataset, DataLoader\n",
    "import numpy as np\n",
    "import math"
   ]
  },
  {
   "cell_type": "markdown",
   "metadata": {},
   "source": [
    "#### Resources: https://pytorch.org/tutorials/beginner/data_loading_tutorial.html"
   ]
  },
  {
   "cell_type": "code",
   "execution_count": 2,
   "metadata": {},
   "outputs": [
    {
     "data": {
      "text/plain": [
       "True"
      ]
     },
     "execution_count": 2,
     "metadata": {},
     "output_type": "execute_result"
    }
   ],
   "source": [
    "torch.cuda.is_available()"
   ]
  },
  {
   "cell_type": "code",
   "execution_count": 3,
   "metadata": {},
   "outputs": [
    {
     "data": {
      "text/plain": [
       "0"
      ]
     },
     "execution_count": 3,
     "metadata": {},
     "output_type": "execute_result"
    }
   ],
   "source": [
    "torch.cuda.current_device()"
   ]
  },
  {
   "cell_type": "code",
   "execution_count": 4,
   "metadata": {},
   "outputs": [
    {
     "data": {
      "text/plain": [
       "'GeForce GTX 1650'"
      ]
     },
     "execution_count": 4,
     "metadata": {},
     "output_type": "execute_result"
    }
   ],
   "source": [
    "torch.cuda.get_device_name(0)"
   ]
  },
  {
   "cell_type": "markdown",
   "metadata": {},
   "source": [
    "### gradient computation etc. not efficient for whole data set\n",
    "### divide dataset into small batches\n",
    "\n",
    "\n",
    "#### epoch = \n",
    "one forward and backward pass of ALL training samples\n",
    "#### batch_size = \n",
    "number of training samples used in one forward/backward pass\n",
    "#### number of iterations =\n",
    "\n",
    "number of passes, each pass (forward+backward) using [batch_size] number of samples.\n",
    "\n",
    "#### e.g : 100 samples, batch_size=20 -> 100/20=5 iterations for 1 epoch\n"
   ]
  },
  {
   "cell_type": "code",
   "execution_count": 5,
   "metadata": {},
   "outputs": [],
   "source": [
    "# --> DataLoader can do the batch computation for us\n",
    "\n",
    "# Implement a custom Dataset:\n",
    "# inherit Dataset\n",
    "# implement __init__ , __getitem__ , and __len__\n",
    "\n",
    "#data : https://raw.githubusercontent.com/Uttam580/mlDlNlpLearning/master/datasets./winequality_white.csv"
   ]
  },
  {
   "cell_type": "code",
   "execution_count": 6,
   "metadata": {},
   "outputs": [],
   "source": [
    "DATASETPATH= 'https://raw.githubusercontent.com/Uttam580/mlDlNlpLearning/master/datasets./winequality_white.csv'"
   ]
  },
  {
   "cell_type": "code",
   "execution_count": 7,
   "metadata": {},
   "outputs": [
    {
     "data": {
      "text/html": [
       "<div>\n",
       "<style scoped>\n",
       "    .dataframe tbody tr th:only-of-type {\n",
       "        vertical-align: middle;\n",
       "    }\n",
       "\n",
       "    .dataframe tbody tr th {\n",
       "        vertical-align: top;\n",
       "    }\n",
       "\n",
       "    .dataframe thead th {\n",
       "        text-align: right;\n",
       "    }\n",
       "</style>\n",
       "<table border=\"1\" class=\"dataframe\">\n",
       "  <thead>\n",
       "    <tr style=\"text-align: right;\">\n",
       "      <th></th>\n",
       "      <th>fixed acidity</th>\n",
       "      <th>volatile acidity</th>\n",
       "      <th>citric acid</th>\n",
       "      <th>residual sugar</th>\n",
       "      <th>chlorides</th>\n",
       "      <th>free sulfur dioxide</th>\n",
       "      <th>total sulfur dioxide</th>\n",
       "      <th>density</th>\n",
       "      <th>pH</th>\n",
       "      <th>sulphates</th>\n",
       "      <th>alcohol</th>\n",
       "      <th>quality</th>\n",
       "    </tr>\n",
       "  </thead>\n",
       "  <tbody>\n",
       "    <tr>\n",
       "      <th>0</th>\n",
       "      <td>7.0</td>\n",
       "      <td>0.27</td>\n",
       "      <td>0.36</td>\n",
       "      <td>20.7</td>\n",
       "      <td>0.045</td>\n",
       "      <td>45.0</td>\n",
       "      <td>170.0</td>\n",
       "      <td>1.0010</td>\n",
       "      <td>3.00</td>\n",
       "      <td>0.45</td>\n",
       "      <td>8.8</td>\n",
       "      <td>6</td>\n",
       "    </tr>\n",
       "    <tr>\n",
       "      <th>1</th>\n",
       "      <td>6.3</td>\n",
       "      <td>0.30</td>\n",
       "      <td>0.34</td>\n",
       "      <td>1.6</td>\n",
       "      <td>0.049</td>\n",
       "      <td>14.0</td>\n",
       "      <td>132.0</td>\n",
       "      <td>0.9940</td>\n",
       "      <td>3.30</td>\n",
       "      <td>0.49</td>\n",
       "      <td>9.5</td>\n",
       "      <td>6</td>\n",
       "    </tr>\n",
       "    <tr>\n",
       "      <th>2</th>\n",
       "      <td>8.1</td>\n",
       "      <td>0.28</td>\n",
       "      <td>0.40</td>\n",
       "      <td>6.9</td>\n",
       "      <td>0.050</td>\n",
       "      <td>30.0</td>\n",
       "      <td>97.0</td>\n",
       "      <td>0.9951</td>\n",
       "      <td>3.26</td>\n",
       "      <td>0.44</td>\n",
       "      <td>10.1</td>\n",
       "      <td>6</td>\n",
       "    </tr>\n",
       "    <tr>\n",
       "      <th>3</th>\n",
       "      <td>7.2</td>\n",
       "      <td>0.23</td>\n",
       "      <td>0.32</td>\n",
       "      <td>8.5</td>\n",
       "      <td>0.058</td>\n",
       "      <td>47.0</td>\n",
       "      <td>186.0</td>\n",
       "      <td>0.9956</td>\n",
       "      <td>3.19</td>\n",
       "      <td>0.40</td>\n",
       "      <td>9.9</td>\n",
       "      <td>6</td>\n",
       "    </tr>\n",
       "    <tr>\n",
       "      <th>4</th>\n",
       "      <td>7.2</td>\n",
       "      <td>0.23</td>\n",
       "      <td>0.32</td>\n",
       "      <td>8.5</td>\n",
       "      <td>0.058</td>\n",
       "      <td>47.0</td>\n",
       "      <td>186.0</td>\n",
       "      <td>0.9956</td>\n",
       "      <td>3.19</td>\n",
       "      <td>0.40</td>\n",
       "      <td>9.9</td>\n",
       "      <td>6</td>\n",
       "    </tr>\n",
       "  </tbody>\n",
       "</table>\n",
       "</div>"
      ],
      "text/plain": [
       "   fixed acidity  volatile acidity  citric acid  residual sugar  chlorides  \\\n",
       "0            7.0              0.27         0.36            20.7      0.045   \n",
       "1            6.3              0.30         0.34             1.6      0.049   \n",
       "2            8.1              0.28         0.40             6.9      0.050   \n",
       "3            7.2              0.23         0.32             8.5      0.058   \n",
       "4            7.2              0.23         0.32             8.5      0.058   \n",
       "\n",
       "   free sulfur dioxide  total sulfur dioxide  density    pH  sulphates  \\\n",
       "0                 45.0                 170.0   1.0010  3.00       0.45   \n",
       "1                 14.0                 132.0   0.9940  3.30       0.49   \n",
       "2                 30.0                  97.0   0.9951  3.26       0.44   \n",
       "3                 47.0                 186.0   0.9956  3.19       0.40   \n",
       "4                 47.0                 186.0   0.9956  3.19       0.40   \n",
       "\n",
       "   alcohol  quality  \n",
       "0      8.8        6  \n",
       "1      9.5        6  \n",
       "2     10.1        6  \n",
       "3      9.9        6  \n",
       "4      9.9        6  "
      ]
     },
     "execution_count": 7,
     "metadata": {},
     "output_type": "execute_result"
    }
   ],
   "source": [
    "import pandas as pd\n",
    "db= pd.read_csv(DATASETPATH)\n",
    "db.head()"
   ]
  },
  {
   "cell_type": "code",
   "execution_count": 8,
   "metadata": {},
   "outputs": [
    {
     "data": {
      "text/plain": [
       "(4898, 12)"
      ]
     },
     "execution_count": 8,
     "metadata": {},
     "output_type": "execute_result"
    }
   ],
   "source": [
    "db.shape"
   ]
  },
  {
   "cell_type": "code",
   "execution_count": 9,
   "metadata": {},
   "outputs": [
    {
     "data": {
      "text/plain": [
       "Index(['fixed acidity', 'volatile acidity', 'citric acid', 'residual sugar',\n",
       "       'chlorides', 'free sulfur dioxide', 'total sulfur dioxide', 'density',\n",
       "       'pH', 'sulphates', 'alcohol', 'quality'],\n",
       "      dtype='object')"
      ]
     },
     "execution_count": 9,
     "metadata": {},
     "output_type": "execute_result"
    }
   ],
   "source": [
    "db.columns"
   ]
  },
  {
   "cell_type": "code",
   "execution_count": 10,
   "metadata": {},
   "outputs": [
    {
     "name": "stdout",
     "output_type": "stream",
     "text": [
      "[[ 7.    0.27  0.36 ...  3.    0.45  8.8 ]\n",
      " [ 6.3   0.3   0.34 ...  3.3   0.49  9.5 ]\n",
      " [ 8.1   0.28  0.4  ...  3.26  0.44 10.1 ]\n",
      " ...\n",
      " [ 6.5   0.24  0.19 ...  2.99  0.46  9.4 ]\n",
      " [ 5.5   0.29  0.3  ...  3.34  0.38 12.8 ]\n",
      " [ 6.    0.21  0.38 ...  3.26  0.32 11.8 ]]\n",
      "[6. 6. 6. ... 6. 7. 6.]\n"
     ]
    }
   ],
   "source": [
    "xy= np.loadtxt(DATASETPATH,delimiter=',',dtype=np.float32, skiprows=1)\n",
    "print(xy[:,:11])\n",
    "print(xy[:,11])"
   ]
  },
  {
   "cell_type": "code",
   "execution_count": 11,
   "metadata": {},
   "outputs": [],
   "source": [
    "class Winedataset(Dataset):\n",
    "    \n",
    "    def __init__(self):\n",
    "        xy= np.loadtxt(DATASETPATH,delimiter=',',dtype=np.float32, skiprows=1)\n",
    "        self.n_samples = xy.shape[0]\n",
    "        self.x_data = torch.from_numpy(xy[:,:11])\n",
    "        self.y_data= torch.from_numpy(xy[:,[11]])\n",
    "    \n",
    "    def __getitem__(self,index):\n",
    "        return self.x_data[index],self.y_data[index]\n",
    "\n",
    "    def __len__(self):\n",
    "        return self.n_samples\n",
    "    "
   ]
  },
  {
   "cell_type": "code",
   "execution_count": 12,
   "metadata": {},
   "outputs": [],
   "source": [
    "# create dataset\n",
    "dataset = Winedataset()"
   ]
  },
  {
   "cell_type": "code",
   "execution_count": 13,
   "metadata": {},
   "outputs": [
    {
     "name": "stdout",
     "output_type": "stream",
     "text": [
      "tensor([7.0000e+00, 2.7000e-01, 3.6000e-01, 2.0700e+01, 4.5000e-02, 4.5000e+01,\n",
      "        1.7000e+02, 1.0010e+00, 3.0000e+00, 4.5000e-01, 8.8000e+00]) tensor([6.])\n"
     ]
    }
   ],
   "source": [
    "# get first sample and unpack\n",
    "first_data = dataset[0]\n",
    "features, labels = first_data\n",
    "print(features, labels)"
   ]
  },
  {
   "cell_type": "code",
   "execution_count": 14,
   "metadata": {},
   "outputs": [],
   "source": [
    "# Load whole dataset with DataLoader\n",
    "# shuffle: shuffle data, good for training\n",
    "# num_workers: faster loading with multiple subprocesses\n",
    "train_loader = DataLoader(dataset=dataset,\n",
    "                          batch_size=4,\n",
    "                          shuffle=True,\n",
    "                          num_workers=0)"
   ]
  },
  {
   "cell_type": "code",
   "execution_count": 15,
   "metadata": {},
   "outputs": [
    {
     "data": {
      "text/plain": [
       "<torch.utils.data.dataloader.DataLoader at 0x1fa6e4bbfd0>"
      ]
     },
     "execution_count": 15,
     "metadata": {},
     "output_type": "execute_result"
    }
   ],
   "source": [
    "train_loader"
   ]
  },
  {
   "cell_type": "code",
   "execution_count": 16,
   "metadata": {},
   "outputs": [
    {
     "name": "stdout",
     "output_type": "stream",
     "text": [
      "tensor([[6.8000e+00, 6.4000e-01, 8.0000e-02, 9.7000e+00, 6.2000e-02, 2.6000e+01,\n",
      "         1.4200e+02, 9.9720e-01, 3.3700e+00, 4.6000e-01, 8.9000e+00],\n",
      "        [7.3000e+00, 1.8000e-01, 3.1000e-01, 1.7300e+01, 5.5000e-02, 3.2000e+01,\n",
      "         1.9700e+02, 1.0002e+00, 3.1300e+00, 4.6000e-01, 9.0000e+00],\n",
      "        [6.9000e+00, 1.1500e-01, 3.5000e-01, 5.4000e+00, 4.8000e-02, 3.6000e+01,\n",
      "         1.0800e+02, 9.9390e-01, 3.3200e+00, 4.2000e-01, 1.0200e+01],\n",
      "        [6.2000e+00, 1.6000e-01, 3.2000e-01, 1.1000e+00, 3.6000e-02, 7.4000e+01,\n",
      "         1.8400e+02, 9.9096e-01, 3.2200e+00, 4.1000e-01, 1.1000e+01]]) tensor([[4.],\n",
      "        [6.],\n",
      "        [6.],\n",
      "        [6.]])\n"
     ]
    }
   ],
   "source": [
    "# convert to an iterator and look at one random sample\n",
    "dataiter = iter(train_loader)\n",
    "data = dataiter.next()\n",
    "features, labels = data\n",
    "print(features, labels)"
   ]
  },
  {
   "cell_type": "code",
   "execution_count": 17,
   "metadata": {},
   "outputs": [
    {
     "name": "stdout",
     "output_type": "stream",
     "text": [
      "4898 1225\n"
     ]
    }
   ],
   "source": [
    "# Dummy Training loop\n",
    "num_epochs = 2\n",
    "total_samples = len(dataset)\n",
    "n_iterations = math.ceil(total_samples/4)\n",
    "print(total_samples, n_iterations)"
   ]
  },
  {
   "cell_type": "code",
   "execution_count": 18,
   "metadata": {},
   "outputs": [
    {
     "name": "stdout",
     "output_type": "stream",
     "text": [
      "Epoch: 1/2, Step 5/1225| Inputs torch.Size([4, 11]) | Labels torch.Size([4, 1])\n",
      "Epoch: 1/2, Step 10/1225| Inputs torch.Size([4, 11]) | Labels torch.Size([4, 1])\n",
      "Epoch: 1/2, Step 15/1225| Inputs torch.Size([4, 11]) | Labels torch.Size([4, 1])\n",
      "Epoch: 1/2, Step 20/1225| Inputs torch.Size([4, 11]) | Labels torch.Size([4, 1])\n",
      "Epoch: 1/2, Step 25/1225| Inputs torch.Size([4, 11]) | Labels torch.Size([4, 1])\n",
      "Epoch: 1/2, Step 30/1225| Inputs torch.Size([4, 11]) | Labels torch.Size([4, 1])\n",
      "Epoch: 1/2, Step 35/1225| Inputs torch.Size([4, 11]) | Labels torch.Size([4, 1])\n",
      "Epoch: 1/2, Step 40/1225| Inputs torch.Size([4, 11]) | Labels torch.Size([4, 1])\n",
      "Epoch: 1/2, Step 45/1225| Inputs torch.Size([4, 11]) | Labels torch.Size([4, 1])\n",
      "Epoch: 1/2, Step 50/1225| Inputs torch.Size([4, 11]) | Labels torch.Size([4, 1])\n",
      "Epoch: 1/2, Step 55/1225| Inputs torch.Size([4, 11]) | Labels torch.Size([4, 1])\n",
      "Epoch: 1/2, Step 60/1225| Inputs torch.Size([4, 11]) | Labels torch.Size([4, 1])\n",
      "Epoch: 1/2, Step 65/1225| Inputs torch.Size([4, 11]) | Labels torch.Size([4, 1])\n",
      "Epoch: 1/2, Step 70/1225| Inputs torch.Size([4, 11]) | Labels torch.Size([4, 1])\n",
      "Epoch: 1/2, Step 75/1225| Inputs torch.Size([4, 11]) | Labels torch.Size([4, 1])\n",
      "Epoch: 1/2, Step 80/1225| Inputs torch.Size([4, 11]) | Labels torch.Size([4, 1])\n",
      "Epoch: 1/2, Step 85/1225| Inputs torch.Size([4, 11]) | Labels torch.Size([4, 1])\n",
      "Epoch: 1/2, Step 90/1225| Inputs torch.Size([4, 11]) | Labels torch.Size([4, 1])\n",
      "Epoch: 1/2, Step 95/1225| Inputs torch.Size([4, 11]) | Labels torch.Size([4, 1])\n",
      "Epoch: 1/2, Step 100/1225| Inputs torch.Size([4, 11]) | Labels torch.Size([4, 1])\n",
      "Epoch: 1/2, Step 105/1225| Inputs torch.Size([4, 11]) | Labels torch.Size([4, 1])\n",
      "Epoch: 1/2, Step 110/1225| Inputs torch.Size([4, 11]) | Labels torch.Size([4, 1])\n",
      "Epoch: 1/2, Step 115/1225| Inputs torch.Size([4, 11]) | Labels torch.Size([4, 1])\n",
      "Epoch: 1/2, Step 120/1225| Inputs torch.Size([4, 11]) | Labels torch.Size([4, 1])\n",
      "Epoch: 1/2, Step 125/1225| Inputs torch.Size([4, 11]) | Labels torch.Size([4, 1])\n",
      "Epoch: 1/2, Step 130/1225| Inputs torch.Size([4, 11]) | Labels torch.Size([4, 1])\n",
      "Epoch: 1/2, Step 135/1225| Inputs torch.Size([4, 11]) | Labels torch.Size([4, 1])\n",
      "Epoch: 1/2, Step 140/1225| Inputs torch.Size([4, 11]) | Labels torch.Size([4, 1])\n",
      "Epoch: 1/2, Step 145/1225| Inputs torch.Size([4, 11]) | Labels torch.Size([4, 1])\n",
      "Epoch: 1/2, Step 150/1225| Inputs torch.Size([4, 11]) | Labels torch.Size([4, 1])\n",
      "Epoch: 1/2, Step 155/1225| Inputs torch.Size([4, 11]) | Labels torch.Size([4, 1])\n",
      "Epoch: 1/2, Step 160/1225| Inputs torch.Size([4, 11]) | Labels torch.Size([4, 1])\n",
      "Epoch: 1/2, Step 165/1225| Inputs torch.Size([4, 11]) | Labels torch.Size([4, 1])\n",
      "Epoch: 1/2, Step 170/1225| Inputs torch.Size([4, 11]) | Labels torch.Size([4, 1])\n",
      "Epoch: 1/2, Step 175/1225| Inputs torch.Size([4, 11]) | Labels torch.Size([4, 1])\n",
      "Epoch: 1/2, Step 180/1225| Inputs torch.Size([4, 11]) | Labels torch.Size([4, 1])\n",
      "Epoch: 1/2, Step 185/1225| Inputs torch.Size([4, 11]) | Labels torch.Size([4, 1])\n",
      "Epoch: 1/2, Step 190/1225| Inputs torch.Size([4, 11]) | Labels torch.Size([4, 1])\n",
      "Epoch: 1/2, Step 195/1225| Inputs torch.Size([4, 11]) | Labels torch.Size([4, 1])\n",
      "Epoch: 1/2, Step 200/1225| Inputs torch.Size([4, 11]) | Labels torch.Size([4, 1])\n",
      "Epoch: 1/2, Step 205/1225| Inputs torch.Size([4, 11]) | Labels torch.Size([4, 1])\n",
      "Epoch: 1/2, Step 210/1225| Inputs torch.Size([4, 11]) | Labels torch.Size([4, 1])\n",
      "Epoch: 1/2, Step 215/1225| Inputs torch.Size([4, 11]) | Labels torch.Size([4, 1])\n",
      "Epoch: 1/2, Step 220/1225| Inputs torch.Size([4, 11]) | Labels torch.Size([4, 1])\n",
      "Epoch: 1/2, Step 225/1225| Inputs torch.Size([4, 11]) | Labels torch.Size([4, 1])\n",
      "Epoch: 1/2, Step 230/1225| Inputs torch.Size([4, 11]) | Labels torch.Size([4, 1])\n",
      "Epoch: 1/2, Step 235/1225| Inputs torch.Size([4, 11]) | Labels torch.Size([4, 1])\n",
      "Epoch: 1/2, Step 240/1225| Inputs torch.Size([4, 11]) | Labels torch.Size([4, 1])\n",
      "Epoch: 1/2, Step 245/1225| Inputs torch.Size([4, 11]) | Labels torch.Size([4, 1])\n",
      "Epoch: 1/2, Step 250/1225| Inputs torch.Size([4, 11]) | Labels torch.Size([4, 1])\n",
      "Epoch: 1/2, Step 255/1225| Inputs torch.Size([4, 11]) | Labels torch.Size([4, 1])\n",
      "Epoch: 1/2, Step 260/1225| Inputs torch.Size([4, 11]) | Labels torch.Size([4, 1])\n",
      "Epoch: 1/2, Step 265/1225| Inputs torch.Size([4, 11]) | Labels torch.Size([4, 1])\n",
      "Epoch: 1/2, Step 270/1225| Inputs torch.Size([4, 11]) | Labels torch.Size([4, 1])\n",
      "Epoch: 1/2, Step 275/1225| Inputs torch.Size([4, 11]) | Labels torch.Size([4, 1])\n",
      "Epoch: 1/2, Step 280/1225| Inputs torch.Size([4, 11]) | Labels torch.Size([4, 1])\n",
      "Epoch: 1/2, Step 285/1225| Inputs torch.Size([4, 11]) | Labels torch.Size([4, 1])\n",
      "Epoch: 1/2, Step 290/1225| Inputs torch.Size([4, 11]) | Labels torch.Size([4, 1])\n",
      "Epoch: 1/2, Step 295/1225| Inputs torch.Size([4, 11]) | Labels torch.Size([4, 1])\n",
      "Epoch: 1/2, Step 300/1225| Inputs torch.Size([4, 11]) | Labels torch.Size([4, 1])\n",
      "Epoch: 1/2, Step 305/1225| Inputs torch.Size([4, 11]) | Labels torch.Size([4, 1])\n",
      "Epoch: 1/2, Step 310/1225| Inputs torch.Size([4, 11]) | Labels torch.Size([4, 1])\n",
      "Epoch: 1/2, Step 315/1225| Inputs torch.Size([4, 11]) | Labels torch.Size([4, 1])\n",
      "Epoch: 1/2, Step 320/1225| Inputs torch.Size([4, 11]) | Labels torch.Size([4, 1])\n",
      "Epoch: 1/2, Step 325/1225| Inputs torch.Size([4, 11]) | Labels torch.Size([4, 1])\n",
      "Epoch: 1/2, Step 330/1225| Inputs torch.Size([4, 11]) | Labels torch.Size([4, 1])\n",
      "Epoch: 1/2, Step 335/1225| Inputs torch.Size([4, 11]) | Labels torch.Size([4, 1])\n",
      "Epoch: 1/2, Step 340/1225| Inputs torch.Size([4, 11]) | Labels torch.Size([4, 1])\n",
      "Epoch: 1/2, Step 345/1225| Inputs torch.Size([4, 11]) | Labels torch.Size([4, 1])\n",
      "Epoch: 1/2, Step 350/1225| Inputs torch.Size([4, 11]) | Labels torch.Size([4, 1])\n",
      "Epoch: 1/2, Step 355/1225| Inputs torch.Size([4, 11]) | Labels torch.Size([4, 1])\n",
      "Epoch: 1/2, Step 360/1225| Inputs torch.Size([4, 11]) | Labels torch.Size([4, 1])\n",
      "Epoch: 1/2, Step 365/1225| Inputs torch.Size([4, 11]) | Labels torch.Size([4, 1])\n",
      "Epoch: 1/2, Step 370/1225| Inputs torch.Size([4, 11]) | Labels torch.Size([4, 1])\n",
      "Epoch: 1/2, Step 375/1225| Inputs torch.Size([4, 11]) | Labels torch.Size([4, 1])\n",
      "Epoch: 1/2, Step 380/1225| Inputs torch.Size([4, 11]) | Labels torch.Size([4, 1])\n",
      "Epoch: 1/2, Step 385/1225| Inputs torch.Size([4, 11]) | Labels torch.Size([4, 1])\n",
      "Epoch: 1/2, Step 390/1225| Inputs torch.Size([4, 11]) | Labels torch.Size([4, 1])\n",
      "Epoch: 1/2, Step 395/1225| Inputs torch.Size([4, 11]) | Labels torch.Size([4, 1])\n",
      "Epoch: 1/2, Step 400/1225| Inputs torch.Size([4, 11]) | Labels torch.Size([4, 1])\n",
      "Epoch: 1/2, Step 405/1225| Inputs torch.Size([4, 11]) | Labels torch.Size([4, 1])\n",
      "Epoch: 1/2, Step 410/1225| Inputs torch.Size([4, 11]) | Labels torch.Size([4, 1])\n",
      "Epoch: 1/2, Step 415/1225| Inputs torch.Size([4, 11]) | Labels torch.Size([4, 1])\n",
      "Epoch: 1/2, Step 420/1225| Inputs torch.Size([4, 11]) | Labels torch.Size([4, 1])\n",
      "Epoch: 1/2, Step 425/1225| Inputs torch.Size([4, 11]) | Labels torch.Size([4, 1])\n",
      "Epoch: 1/2, Step 430/1225| Inputs torch.Size([4, 11]) | Labels torch.Size([4, 1])\n",
      "Epoch: 1/2, Step 435/1225| Inputs torch.Size([4, 11]) | Labels torch.Size([4, 1])\n",
      "Epoch: 1/2, Step 440/1225| Inputs torch.Size([4, 11]) | Labels torch.Size([4, 1])\n",
      "Epoch: 1/2, Step 445/1225| Inputs torch.Size([4, 11]) | Labels torch.Size([4, 1])\n",
      "Epoch: 1/2, Step 450/1225| Inputs torch.Size([4, 11]) | Labels torch.Size([4, 1])\n",
      "Epoch: 1/2, Step 455/1225| Inputs torch.Size([4, 11]) | Labels torch.Size([4, 1])\n",
      "Epoch: 1/2, Step 460/1225| Inputs torch.Size([4, 11]) | Labels torch.Size([4, 1])\n",
      "Epoch: 1/2, Step 465/1225| Inputs torch.Size([4, 11]) | Labels torch.Size([4, 1])\n",
      "Epoch: 1/2, Step 470/1225| Inputs torch.Size([4, 11]) | Labels torch.Size([4, 1])\n",
      "Epoch: 1/2, Step 475/1225| Inputs torch.Size([4, 11]) | Labels torch.Size([4, 1])\n",
      "Epoch: 1/2, Step 480/1225| Inputs torch.Size([4, 11]) | Labels torch.Size([4, 1])\n",
      "Epoch: 1/2, Step 485/1225| Inputs torch.Size([4, 11]) | Labels torch.Size([4, 1])\n",
      "Epoch: 1/2, Step 490/1225| Inputs torch.Size([4, 11]) | Labels torch.Size([4, 1])\n",
      "Epoch: 1/2, Step 495/1225| Inputs torch.Size([4, 11]) | Labels torch.Size([4, 1])\n",
      "Epoch: 1/2, Step 500/1225| Inputs torch.Size([4, 11]) | Labels torch.Size([4, 1])\n",
      "Epoch: 1/2, Step 505/1225| Inputs torch.Size([4, 11]) | Labels torch.Size([4, 1])\n",
      "Epoch: 1/2, Step 510/1225| Inputs torch.Size([4, 11]) | Labels torch.Size([4, 1])\n",
      "Epoch: 1/2, Step 515/1225| Inputs torch.Size([4, 11]) | Labels torch.Size([4, 1])\n",
      "Epoch: 1/2, Step 520/1225| Inputs torch.Size([4, 11]) | Labels torch.Size([4, 1])\n",
      "Epoch: 1/2, Step 525/1225| Inputs torch.Size([4, 11]) | Labels torch.Size([4, 1])\n",
      "Epoch: 1/2, Step 530/1225| Inputs torch.Size([4, 11]) | Labels torch.Size([4, 1])\n",
      "Epoch: 1/2, Step 535/1225| Inputs torch.Size([4, 11]) | Labels torch.Size([4, 1])\n",
      "Epoch: 1/2, Step 540/1225| Inputs torch.Size([4, 11]) | Labels torch.Size([4, 1])\n",
      "Epoch: 1/2, Step 545/1225| Inputs torch.Size([4, 11]) | Labels torch.Size([4, 1])\n",
      "Epoch: 1/2, Step 550/1225| Inputs torch.Size([4, 11]) | Labels torch.Size([4, 1])\n",
      "Epoch: 1/2, Step 555/1225| Inputs torch.Size([4, 11]) | Labels torch.Size([4, 1])\n",
      "Epoch: 1/2, Step 560/1225| Inputs torch.Size([4, 11]) | Labels torch.Size([4, 1])\n",
      "Epoch: 1/2, Step 565/1225| Inputs torch.Size([4, 11]) | Labels torch.Size([4, 1])\n"
     ]
    },
    {
     "name": "stdout",
     "output_type": "stream",
     "text": [
      "Epoch: 1/2, Step 570/1225| Inputs torch.Size([4, 11]) | Labels torch.Size([4, 1])\n",
      "Epoch: 1/2, Step 575/1225| Inputs torch.Size([4, 11]) | Labels torch.Size([4, 1])\n",
      "Epoch: 1/2, Step 580/1225| Inputs torch.Size([4, 11]) | Labels torch.Size([4, 1])\n",
      "Epoch: 1/2, Step 585/1225| Inputs torch.Size([4, 11]) | Labels torch.Size([4, 1])\n",
      "Epoch: 1/2, Step 590/1225| Inputs torch.Size([4, 11]) | Labels torch.Size([4, 1])\n",
      "Epoch: 1/2, Step 595/1225| Inputs torch.Size([4, 11]) | Labels torch.Size([4, 1])\n",
      "Epoch: 1/2, Step 600/1225| Inputs torch.Size([4, 11]) | Labels torch.Size([4, 1])\n",
      "Epoch: 1/2, Step 605/1225| Inputs torch.Size([4, 11]) | Labels torch.Size([4, 1])\n",
      "Epoch: 1/2, Step 610/1225| Inputs torch.Size([4, 11]) | Labels torch.Size([4, 1])\n",
      "Epoch: 1/2, Step 615/1225| Inputs torch.Size([4, 11]) | Labels torch.Size([4, 1])\n",
      "Epoch: 1/2, Step 620/1225| Inputs torch.Size([4, 11]) | Labels torch.Size([4, 1])\n",
      "Epoch: 1/2, Step 625/1225| Inputs torch.Size([4, 11]) | Labels torch.Size([4, 1])\n",
      "Epoch: 1/2, Step 630/1225| Inputs torch.Size([4, 11]) | Labels torch.Size([4, 1])\n",
      "Epoch: 1/2, Step 635/1225| Inputs torch.Size([4, 11]) | Labels torch.Size([4, 1])\n",
      "Epoch: 1/2, Step 640/1225| Inputs torch.Size([4, 11]) | Labels torch.Size([4, 1])\n",
      "Epoch: 1/2, Step 645/1225| Inputs torch.Size([4, 11]) | Labels torch.Size([4, 1])\n",
      "Epoch: 1/2, Step 650/1225| Inputs torch.Size([4, 11]) | Labels torch.Size([4, 1])\n",
      "Epoch: 1/2, Step 655/1225| Inputs torch.Size([4, 11]) | Labels torch.Size([4, 1])\n",
      "Epoch: 1/2, Step 660/1225| Inputs torch.Size([4, 11]) | Labels torch.Size([4, 1])\n",
      "Epoch: 1/2, Step 665/1225| Inputs torch.Size([4, 11]) | Labels torch.Size([4, 1])\n",
      "Epoch: 1/2, Step 670/1225| Inputs torch.Size([4, 11]) | Labels torch.Size([4, 1])\n",
      "Epoch: 1/2, Step 675/1225| Inputs torch.Size([4, 11]) | Labels torch.Size([4, 1])\n",
      "Epoch: 1/2, Step 680/1225| Inputs torch.Size([4, 11]) | Labels torch.Size([4, 1])\n",
      "Epoch: 1/2, Step 685/1225| Inputs torch.Size([4, 11]) | Labels torch.Size([4, 1])\n",
      "Epoch: 1/2, Step 690/1225| Inputs torch.Size([4, 11]) | Labels torch.Size([4, 1])\n",
      "Epoch: 1/2, Step 695/1225| Inputs torch.Size([4, 11]) | Labels torch.Size([4, 1])\n",
      "Epoch: 1/2, Step 700/1225| Inputs torch.Size([4, 11]) | Labels torch.Size([4, 1])\n",
      "Epoch: 1/2, Step 705/1225| Inputs torch.Size([4, 11]) | Labels torch.Size([4, 1])\n",
      "Epoch: 1/2, Step 710/1225| Inputs torch.Size([4, 11]) | Labels torch.Size([4, 1])\n",
      "Epoch: 1/2, Step 715/1225| Inputs torch.Size([4, 11]) | Labels torch.Size([4, 1])\n",
      "Epoch: 1/2, Step 720/1225| Inputs torch.Size([4, 11]) | Labels torch.Size([4, 1])\n",
      "Epoch: 1/2, Step 725/1225| Inputs torch.Size([4, 11]) | Labels torch.Size([4, 1])\n",
      "Epoch: 1/2, Step 730/1225| Inputs torch.Size([4, 11]) | Labels torch.Size([4, 1])\n",
      "Epoch: 1/2, Step 735/1225| Inputs torch.Size([4, 11]) | Labels torch.Size([4, 1])\n",
      "Epoch: 1/2, Step 740/1225| Inputs torch.Size([4, 11]) | Labels torch.Size([4, 1])\n",
      "Epoch: 1/2, Step 745/1225| Inputs torch.Size([4, 11]) | Labels torch.Size([4, 1])\n",
      "Epoch: 1/2, Step 750/1225| Inputs torch.Size([4, 11]) | Labels torch.Size([4, 1])\n",
      "Epoch: 1/2, Step 755/1225| Inputs torch.Size([4, 11]) | Labels torch.Size([4, 1])\n",
      "Epoch: 1/2, Step 760/1225| Inputs torch.Size([4, 11]) | Labels torch.Size([4, 1])\n",
      "Epoch: 1/2, Step 765/1225| Inputs torch.Size([4, 11]) | Labels torch.Size([4, 1])\n",
      "Epoch: 1/2, Step 770/1225| Inputs torch.Size([4, 11]) | Labels torch.Size([4, 1])\n",
      "Epoch: 1/2, Step 775/1225| Inputs torch.Size([4, 11]) | Labels torch.Size([4, 1])\n",
      "Epoch: 1/2, Step 780/1225| Inputs torch.Size([4, 11]) | Labels torch.Size([4, 1])\n",
      "Epoch: 1/2, Step 785/1225| Inputs torch.Size([4, 11]) | Labels torch.Size([4, 1])\n",
      "Epoch: 1/2, Step 790/1225| Inputs torch.Size([4, 11]) | Labels torch.Size([4, 1])\n",
      "Epoch: 1/2, Step 795/1225| Inputs torch.Size([4, 11]) | Labels torch.Size([4, 1])\n",
      "Epoch: 1/2, Step 800/1225| Inputs torch.Size([4, 11]) | Labels torch.Size([4, 1])\n",
      "Epoch: 1/2, Step 805/1225| Inputs torch.Size([4, 11]) | Labels torch.Size([4, 1])\n",
      "Epoch: 1/2, Step 810/1225| Inputs torch.Size([4, 11]) | Labels torch.Size([4, 1])\n",
      "Epoch: 1/2, Step 815/1225| Inputs torch.Size([4, 11]) | Labels torch.Size([4, 1])\n",
      "Epoch: 1/2, Step 820/1225| Inputs torch.Size([4, 11]) | Labels torch.Size([4, 1])\n",
      "Epoch: 1/2, Step 825/1225| Inputs torch.Size([4, 11]) | Labels torch.Size([4, 1])\n",
      "Epoch: 1/2, Step 830/1225| Inputs torch.Size([4, 11]) | Labels torch.Size([4, 1])\n",
      "Epoch: 1/2, Step 835/1225| Inputs torch.Size([4, 11]) | Labels torch.Size([4, 1])\n",
      "Epoch: 1/2, Step 840/1225| Inputs torch.Size([4, 11]) | Labels torch.Size([4, 1])\n",
      "Epoch: 1/2, Step 845/1225| Inputs torch.Size([4, 11]) | Labels torch.Size([4, 1])\n",
      "Epoch: 1/2, Step 850/1225| Inputs torch.Size([4, 11]) | Labels torch.Size([4, 1])\n",
      "Epoch: 1/2, Step 855/1225| Inputs torch.Size([4, 11]) | Labels torch.Size([4, 1])\n",
      "Epoch: 1/2, Step 860/1225| Inputs torch.Size([4, 11]) | Labels torch.Size([4, 1])\n",
      "Epoch: 1/2, Step 865/1225| Inputs torch.Size([4, 11]) | Labels torch.Size([4, 1])\n",
      "Epoch: 1/2, Step 870/1225| Inputs torch.Size([4, 11]) | Labels torch.Size([4, 1])\n",
      "Epoch: 1/2, Step 875/1225| Inputs torch.Size([4, 11]) | Labels torch.Size([4, 1])\n",
      "Epoch: 1/2, Step 880/1225| Inputs torch.Size([4, 11]) | Labels torch.Size([4, 1])\n",
      "Epoch: 1/2, Step 885/1225| Inputs torch.Size([4, 11]) | Labels torch.Size([4, 1])\n",
      "Epoch: 1/2, Step 890/1225| Inputs torch.Size([4, 11]) | Labels torch.Size([4, 1])\n",
      "Epoch: 1/2, Step 895/1225| Inputs torch.Size([4, 11]) | Labels torch.Size([4, 1])\n",
      "Epoch: 1/2, Step 900/1225| Inputs torch.Size([4, 11]) | Labels torch.Size([4, 1])\n",
      "Epoch: 1/2, Step 905/1225| Inputs torch.Size([4, 11]) | Labels torch.Size([4, 1])\n",
      "Epoch: 1/2, Step 910/1225| Inputs torch.Size([4, 11]) | Labels torch.Size([4, 1])\n",
      "Epoch: 1/2, Step 915/1225| Inputs torch.Size([4, 11]) | Labels torch.Size([4, 1])\n",
      "Epoch: 1/2, Step 920/1225| Inputs torch.Size([4, 11]) | Labels torch.Size([4, 1])\n",
      "Epoch: 1/2, Step 925/1225| Inputs torch.Size([4, 11]) | Labels torch.Size([4, 1])\n",
      "Epoch: 1/2, Step 930/1225| Inputs torch.Size([4, 11]) | Labels torch.Size([4, 1])\n",
      "Epoch: 1/2, Step 935/1225| Inputs torch.Size([4, 11]) | Labels torch.Size([4, 1])\n",
      "Epoch: 1/2, Step 940/1225| Inputs torch.Size([4, 11]) | Labels torch.Size([4, 1])\n",
      "Epoch: 1/2, Step 945/1225| Inputs torch.Size([4, 11]) | Labels torch.Size([4, 1])\n",
      "Epoch: 1/2, Step 950/1225| Inputs torch.Size([4, 11]) | Labels torch.Size([4, 1])\n",
      "Epoch: 1/2, Step 955/1225| Inputs torch.Size([4, 11]) | Labels torch.Size([4, 1])\n",
      "Epoch: 1/2, Step 960/1225| Inputs torch.Size([4, 11]) | Labels torch.Size([4, 1])\n",
      "Epoch: 1/2, Step 965/1225| Inputs torch.Size([4, 11]) | Labels torch.Size([4, 1])\n",
      "Epoch: 1/2, Step 970/1225| Inputs torch.Size([4, 11]) | Labels torch.Size([4, 1])\n",
      "Epoch: 1/2, Step 975/1225| Inputs torch.Size([4, 11]) | Labels torch.Size([4, 1])\n",
      "Epoch: 1/2, Step 980/1225| Inputs torch.Size([4, 11]) | Labels torch.Size([4, 1])\n",
      "Epoch: 1/2, Step 985/1225| Inputs torch.Size([4, 11]) | Labels torch.Size([4, 1])\n",
      "Epoch: 1/2, Step 990/1225| Inputs torch.Size([4, 11]) | Labels torch.Size([4, 1])\n",
      "Epoch: 1/2, Step 995/1225| Inputs torch.Size([4, 11]) | Labels torch.Size([4, 1])\n",
      "Epoch: 1/2, Step 1000/1225| Inputs torch.Size([4, 11]) | Labels torch.Size([4, 1])\n",
      "Epoch: 1/2, Step 1005/1225| Inputs torch.Size([4, 11]) | Labels torch.Size([4, 1])\n",
      "Epoch: 1/2, Step 1010/1225| Inputs torch.Size([4, 11]) | Labels torch.Size([4, 1])\n",
      "Epoch: 1/2, Step 1015/1225| Inputs torch.Size([4, 11]) | Labels torch.Size([4, 1])\n",
      "Epoch: 1/2, Step 1020/1225| Inputs torch.Size([4, 11]) | Labels torch.Size([4, 1])\n",
      "Epoch: 1/2, Step 1025/1225| Inputs torch.Size([4, 11]) | Labels torch.Size([4, 1])\n",
      "Epoch: 1/2, Step 1030/1225| Inputs torch.Size([4, 11]) | Labels torch.Size([4, 1])\n",
      "Epoch: 1/2, Step 1035/1225| Inputs torch.Size([4, 11]) | Labels torch.Size([4, 1])\n",
      "Epoch: 1/2, Step 1040/1225| Inputs torch.Size([4, 11]) | Labels torch.Size([4, 1])\n",
      "Epoch: 1/2, Step 1045/1225| Inputs torch.Size([4, 11]) | Labels torch.Size([4, 1])\n",
      "Epoch: 1/2, Step 1050/1225| Inputs torch.Size([4, 11]) | Labels torch.Size([4, 1])\n",
      "Epoch: 1/2, Step 1055/1225| Inputs torch.Size([4, 11]) | Labels torch.Size([4, 1])\n",
      "Epoch: 1/2, Step 1060/1225| Inputs torch.Size([4, 11]) | Labels torch.Size([4, 1])\n",
      "Epoch: 1/2, Step 1065/1225| Inputs torch.Size([4, 11]) | Labels torch.Size([4, 1])\n",
      "Epoch: 1/2, Step 1070/1225| Inputs torch.Size([4, 11]) | Labels torch.Size([4, 1])\n",
      "Epoch: 1/2, Step 1075/1225| Inputs torch.Size([4, 11]) | Labels torch.Size([4, 1])\n",
      "Epoch: 1/2, Step 1080/1225| Inputs torch.Size([4, 11]) | Labels torch.Size([4, 1])\n",
      "Epoch: 1/2, Step 1085/1225| Inputs torch.Size([4, 11]) | Labels torch.Size([4, 1])\n",
      "Epoch: 1/2, Step 1090/1225| Inputs torch.Size([4, 11]) | Labels torch.Size([4, 1])\n",
      "Epoch: 1/2, Step 1095/1225| Inputs torch.Size([4, 11]) | Labels torch.Size([4, 1])\n",
      "Epoch: 1/2, Step 1100/1225| Inputs torch.Size([4, 11]) | Labels torch.Size([4, 1])\n",
      "Epoch: 1/2, Step 1105/1225| Inputs torch.Size([4, 11]) | Labels torch.Size([4, 1])\n",
      "Epoch: 1/2, Step 1110/1225| Inputs torch.Size([4, 11]) | Labels torch.Size([4, 1])\n",
      "Epoch: 1/2, Step 1115/1225| Inputs torch.Size([4, 11]) | Labels torch.Size([4, 1])\n",
      "Epoch: 1/2, Step 1120/1225| Inputs torch.Size([4, 11]) | Labels torch.Size([4, 1])\n",
      "Epoch: 1/2, Step 1125/1225| Inputs torch.Size([4, 11]) | Labels torch.Size([4, 1])\n",
      "Epoch: 1/2, Step 1130/1225| Inputs torch.Size([4, 11]) | Labels torch.Size([4, 1])\n",
      "Epoch: 1/2, Step 1135/1225| Inputs torch.Size([4, 11]) | Labels torch.Size([4, 1])\n"
     ]
    },
    {
     "name": "stdout",
     "output_type": "stream",
     "text": [
      "Epoch: 1/2, Step 1140/1225| Inputs torch.Size([4, 11]) | Labels torch.Size([4, 1])\n",
      "Epoch: 1/2, Step 1145/1225| Inputs torch.Size([4, 11]) | Labels torch.Size([4, 1])\n",
      "Epoch: 1/2, Step 1150/1225| Inputs torch.Size([4, 11]) | Labels torch.Size([4, 1])\n",
      "Epoch: 1/2, Step 1155/1225| Inputs torch.Size([4, 11]) | Labels torch.Size([4, 1])\n",
      "Epoch: 1/2, Step 1160/1225| Inputs torch.Size([4, 11]) | Labels torch.Size([4, 1])\n",
      "Epoch: 1/2, Step 1165/1225| Inputs torch.Size([4, 11]) | Labels torch.Size([4, 1])\n",
      "Epoch: 1/2, Step 1170/1225| Inputs torch.Size([4, 11]) | Labels torch.Size([4, 1])\n",
      "Epoch: 1/2, Step 1175/1225| Inputs torch.Size([4, 11]) | Labels torch.Size([4, 1])\n",
      "Epoch: 1/2, Step 1180/1225| Inputs torch.Size([4, 11]) | Labels torch.Size([4, 1])\n",
      "Epoch: 1/2, Step 1185/1225| Inputs torch.Size([4, 11]) | Labels torch.Size([4, 1])\n",
      "Epoch: 1/2, Step 1190/1225| Inputs torch.Size([4, 11]) | Labels torch.Size([4, 1])\n",
      "Epoch: 1/2, Step 1195/1225| Inputs torch.Size([4, 11]) | Labels torch.Size([4, 1])\n",
      "Epoch: 1/2, Step 1200/1225| Inputs torch.Size([4, 11]) | Labels torch.Size([4, 1])\n",
      "Epoch: 1/2, Step 1205/1225| Inputs torch.Size([4, 11]) | Labels torch.Size([4, 1])\n",
      "Epoch: 1/2, Step 1210/1225| Inputs torch.Size([4, 11]) | Labels torch.Size([4, 1])\n",
      "Epoch: 1/2, Step 1215/1225| Inputs torch.Size([4, 11]) | Labels torch.Size([4, 1])\n",
      "Epoch: 1/2, Step 1220/1225| Inputs torch.Size([4, 11]) | Labels torch.Size([4, 1])\n",
      "Epoch: 1/2, Step 1225/1225| Inputs torch.Size([2, 11]) | Labels torch.Size([2, 1])\n",
      "Epoch: 2/2, Step 5/1225| Inputs torch.Size([4, 11]) | Labels torch.Size([4, 1])\n",
      "Epoch: 2/2, Step 10/1225| Inputs torch.Size([4, 11]) | Labels torch.Size([4, 1])\n",
      "Epoch: 2/2, Step 15/1225| Inputs torch.Size([4, 11]) | Labels torch.Size([4, 1])\n",
      "Epoch: 2/2, Step 20/1225| Inputs torch.Size([4, 11]) | Labels torch.Size([4, 1])\n",
      "Epoch: 2/2, Step 25/1225| Inputs torch.Size([4, 11]) | Labels torch.Size([4, 1])\n",
      "Epoch: 2/2, Step 30/1225| Inputs torch.Size([4, 11]) | Labels torch.Size([4, 1])\n",
      "Epoch: 2/2, Step 35/1225| Inputs torch.Size([4, 11]) | Labels torch.Size([4, 1])\n",
      "Epoch: 2/2, Step 40/1225| Inputs torch.Size([4, 11]) | Labels torch.Size([4, 1])\n",
      "Epoch: 2/2, Step 45/1225| Inputs torch.Size([4, 11]) | Labels torch.Size([4, 1])\n",
      "Epoch: 2/2, Step 50/1225| Inputs torch.Size([4, 11]) | Labels torch.Size([4, 1])\n",
      "Epoch: 2/2, Step 55/1225| Inputs torch.Size([4, 11]) | Labels torch.Size([4, 1])\n",
      "Epoch: 2/2, Step 60/1225| Inputs torch.Size([4, 11]) | Labels torch.Size([4, 1])\n",
      "Epoch: 2/2, Step 65/1225| Inputs torch.Size([4, 11]) | Labels torch.Size([4, 1])\n",
      "Epoch: 2/2, Step 70/1225| Inputs torch.Size([4, 11]) | Labels torch.Size([4, 1])\n",
      "Epoch: 2/2, Step 75/1225| Inputs torch.Size([4, 11]) | Labels torch.Size([4, 1])\n",
      "Epoch: 2/2, Step 80/1225| Inputs torch.Size([4, 11]) | Labels torch.Size([4, 1])\n",
      "Epoch: 2/2, Step 85/1225| Inputs torch.Size([4, 11]) | Labels torch.Size([4, 1])\n",
      "Epoch: 2/2, Step 90/1225| Inputs torch.Size([4, 11]) | Labels torch.Size([4, 1])\n",
      "Epoch: 2/2, Step 95/1225| Inputs torch.Size([4, 11]) | Labels torch.Size([4, 1])\n",
      "Epoch: 2/2, Step 100/1225| Inputs torch.Size([4, 11]) | Labels torch.Size([4, 1])\n",
      "Epoch: 2/2, Step 105/1225| Inputs torch.Size([4, 11]) | Labels torch.Size([4, 1])\n",
      "Epoch: 2/2, Step 110/1225| Inputs torch.Size([4, 11]) | Labels torch.Size([4, 1])\n",
      "Epoch: 2/2, Step 115/1225| Inputs torch.Size([4, 11]) | Labels torch.Size([4, 1])\n",
      "Epoch: 2/2, Step 120/1225| Inputs torch.Size([4, 11]) | Labels torch.Size([4, 1])\n",
      "Epoch: 2/2, Step 125/1225| Inputs torch.Size([4, 11]) | Labels torch.Size([4, 1])\n",
      "Epoch: 2/2, Step 130/1225| Inputs torch.Size([4, 11]) | Labels torch.Size([4, 1])\n",
      "Epoch: 2/2, Step 135/1225| Inputs torch.Size([4, 11]) | Labels torch.Size([4, 1])\n",
      "Epoch: 2/2, Step 140/1225| Inputs torch.Size([4, 11]) | Labels torch.Size([4, 1])\n",
      "Epoch: 2/2, Step 145/1225| Inputs torch.Size([4, 11]) | Labels torch.Size([4, 1])\n",
      "Epoch: 2/2, Step 150/1225| Inputs torch.Size([4, 11]) | Labels torch.Size([4, 1])\n",
      "Epoch: 2/2, Step 155/1225| Inputs torch.Size([4, 11]) | Labels torch.Size([4, 1])\n",
      "Epoch: 2/2, Step 160/1225| Inputs torch.Size([4, 11]) | Labels torch.Size([4, 1])\n",
      "Epoch: 2/2, Step 165/1225| Inputs torch.Size([4, 11]) | Labels torch.Size([4, 1])\n",
      "Epoch: 2/2, Step 170/1225| Inputs torch.Size([4, 11]) | Labels torch.Size([4, 1])\n",
      "Epoch: 2/2, Step 175/1225| Inputs torch.Size([4, 11]) | Labels torch.Size([4, 1])\n",
      "Epoch: 2/2, Step 180/1225| Inputs torch.Size([4, 11]) | Labels torch.Size([4, 1])\n",
      "Epoch: 2/2, Step 185/1225| Inputs torch.Size([4, 11]) | Labels torch.Size([4, 1])\n",
      "Epoch: 2/2, Step 190/1225| Inputs torch.Size([4, 11]) | Labels torch.Size([4, 1])\n",
      "Epoch: 2/2, Step 195/1225| Inputs torch.Size([4, 11]) | Labels torch.Size([4, 1])\n",
      "Epoch: 2/2, Step 200/1225| Inputs torch.Size([4, 11]) | Labels torch.Size([4, 1])\n",
      "Epoch: 2/2, Step 205/1225| Inputs torch.Size([4, 11]) | Labels torch.Size([4, 1])\n",
      "Epoch: 2/2, Step 210/1225| Inputs torch.Size([4, 11]) | Labels torch.Size([4, 1])\n",
      "Epoch: 2/2, Step 215/1225| Inputs torch.Size([4, 11]) | Labels torch.Size([4, 1])\n",
      "Epoch: 2/2, Step 220/1225| Inputs torch.Size([4, 11]) | Labels torch.Size([4, 1])\n",
      "Epoch: 2/2, Step 225/1225| Inputs torch.Size([4, 11]) | Labels torch.Size([4, 1])\n",
      "Epoch: 2/2, Step 230/1225| Inputs torch.Size([4, 11]) | Labels torch.Size([4, 1])\n",
      "Epoch: 2/2, Step 235/1225| Inputs torch.Size([4, 11]) | Labels torch.Size([4, 1])\n",
      "Epoch: 2/2, Step 240/1225| Inputs torch.Size([4, 11]) | Labels torch.Size([4, 1])\n",
      "Epoch: 2/2, Step 245/1225| Inputs torch.Size([4, 11]) | Labels torch.Size([4, 1])\n",
      "Epoch: 2/2, Step 250/1225| Inputs torch.Size([4, 11]) | Labels torch.Size([4, 1])\n",
      "Epoch: 2/2, Step 255/1225| Inputs torch.Size([4, 11]) | Labels torch.Size([4, 1])\n",
      "Epoch: 2/2, Step 260/1225| Inputs torch.Size([4, 11]) | Labels torch.Size([4, 1])\n",
      "Epoch: 2/2, Step 265/1225| Inputs torch.Size([4, 11]) | Labels torch.Size([4, 1])\n",
      "Epoch: 2/2, Step 270/1225| Inputs torch.Size([4, 11]) | Labels torch.Size([4, 1])\n",
      "Epoch: 2/2, Step 275/1225| Inputs torch.Size([4, 11]) | Labels torch.Size([4, 1])\n",
      "Epoch: 2/2, Step 280/1225| Inputs torch.Size([4, 11]) | Labels torch.Size([4, 1])\n",
      "Epoch: 2/2, Step 285/1225| Inputs torch.Size([4, 11]) | Labels torch.Size([4, 1])\n",
      "Epoch: 2/2, Step 290/1225| Inputs torch.Size([4, 11]) | Labels torch.Size([4, 1])\n",
      "Epoch: 2/2, Step 295/1225| Inputs torch.Size([4, 11]) | Labels torch.Size([4, 1])\n",
      "Epoch: 2/2, Step 300/1225| Inputs torch.Size([4, 11]) | Labels torch.Size([4, 1])\n",
      "Epoch: 2/2, Step 305/1225| Inputs torch.Size([4, 11]) | Labels torch.Size([4, 1])\n",
      "Epoch: 2/2, Step 310/1225| Inputs torch.Size([4, 11]) | Labels torch.Size([4, 1])\n",
      "Epoch: 2/2, Step 315/1225| Inputs torch.Size([4, 11]) | Labels torch.Size([4, 1])\n",
      "Epoch: 2/2, Step 320/1225| Inputs torch.Size([4, 11]) | Labels torch.Size([4, 1])\n",
      "Epoch: 2/2, Step 325/1225| Inputs torch.Size([4, 11]) | Labels torch.Size([4, 1])\n",
      "Epoch: 2/2, Step 330/1225| Inputs torch.Size([4, 11]) | Labels torch.Size([4, 1])\n",
      "Epoch: 2/2, Step 335/1225| Inputs torch.Size([4, 11]) | Labels torch.Size([4, 1])\n",
      "Epoch: 2/2, Step 340/1225| Inputs torch.Size([4, 11]) | Labels torch.Size([4, 1])\n",
      "Epoch: 2/2, Step 345/1225| Inputs torch.Size([4, 11]) | Labels torch.Size([4, 1])\n",
      "Epoch: 2/2, Step 350/1225| Inputs torch.Size([4, 11]) | Labels torch.Size([4, 1])\n",
      "Epoch: 2/2, Step 355/1225| Inputs torch.Size([4, 11]) | Labels torch.Size([4, 1])\n",
      "Epoch: 2/2, Step 360/1225| Inputs torch.Size([4, 11]) | Labels torch.Size([4, 1])\n",
      "Epoch: 2/2, Step 365/1225| Inputs torch.Size([4, 11]) | Labels torch.Size([4, 1])\n",
      "Epoch: 2/2, Step 370/1225| Inputs torch.Size([4, 11]) | Labels torch.Size([4, 1])\n",
      "Epoch: 2/2, Step 375/1225| Inputs torch.Size([4, 11]) | Labels torch.Size([4, 1])\n",
      "Epoch: 2/2, Step 380/1225| Inputs torch.Size([4, 11]) | Labels torch.Size([4, 1])\n",
      "Epoch: 2/2, Step 385/1225| Inputs torch.Size([4, 11]) | Labels torch.Size([4, 1])\n",
      "Epoch: 2/2, Step 390/1225| Inputs torch.Size([4, 11]) | Labels torch.Size([4, 1])\n",
      "Epoch: 2/2, Step 395/1225| Inputs torch.Size([4, 11]) | Labels torch.Size([4, 1])\n",
      "Epoch: 2/2, Step 400/1225| Inputs torch.Size([4, 11]) | Labels torch.Size([4, 1])\n",
      "Epoch: 2/2, Step 405/1225| Inputs torch.Size([4, 11]) | Labels torch.Size([4, 1])\n",
      "Epoch: 2/2, Step 410/1225| Inputs torch.Size([4, 11]) | Labels torch.Size([4, 1])\n",
      "Epoch: 2/2, Step 415/1225| Inputs torch.Size([4, 11]) | Labels torch.Size([4, 1])\n",
      "Epoch: 2/2, Step 420/1225| Inputs torch.Size([4, 11]) | Labels torch.Size([4, 1])\n",
      "Epoch: 2/2, Step 425/1225| Inputs torch.Size([4, 11]) | Labels torch.Size([4, 1])\n",
      "Epoch: 2/2, Step 430/1225| Inputs torch.Size([4, 11]) | Labels torch.Size([4, 1])\n",
      "Epoch: 2/2, Step 435/1225| Inputs torch.Size([4, 11]) | Labels torch.Size([4, 1])\n",
      "Epoch: 2/2, Step 440/1225| Inputs torch.Size([4, 11]) | Labels torch.Size([4, 1])\n",
      "Epoch: 2/2, Step 445/1225| Inputs torch.Size([4, 11]) | Labels torch.Size([4, 1])\n",
      "Epoch: 2/2, Step 450/1225| Inputs torch.Size([4, 11]) | Labels torch.Size([4, 1])\n",
      "Epoch: 2/2, Step 455/1225| Inputs torch.Size([4, 11]) | Labels torch.Size([4, 1])\n",
      "Epoch: 2/2, Step 460/1225| Inputs torch.Size([4, 11]) | Labels torch.Size([4, 1])\n",
      "Epoch: 2/2, Step 465/1225| Inputs torch.Size([4, 11]) | Labels torch.Size([4, 1])\n",
      "Epoch: 2/2, Step 470/1225| Inputs torch.Size([4, 11]) | Labels torch.Size([4, 1])\n",
      "Epoch: 2/2, Step 475/1225| Inputs torch.Size([4, 11]) | Labels torch.Size([4, 1])\n",
      "Epoch: 2/2, Step 480/1225| Inputs torch.Size([4, 11]) | Labels torch.Size([4, 1])\n",
      "Epoch: 2/2, Step 485/1225| Inputs torch.Size([4, 11]) | Labels torch.Size([4, 1])\n",
      "Epoch: 2/2, Step 490/1225| Inputs torch.Size([4, 11]) | Labels torch.Size([4, 1])\n",
      "Epoch: 2/2, Step 495/1225| Inputs torch.Size([4, 11]) | Labels torch.Size([4, 1])\n",
      "Epoch: 2/2, Step 500/1225| Inputs torch.Size([4, 11]) | Labels torch.Size([4, 1])\n",
      "Epoch: 2/2, Step 505/1225| Inputs torch.Size([4, 11]) | Labels torch.Size([4, 1])\n",
      "Epoch: 2/2, Step 510/1225| Inputs torch.Size([4, 11]) | Labels torch.Size([4, 1])\n",
      "Epoch: 2/2, Step 515/1225| Inputs torch.Size([4, 11]) | Labels torch.Size([4, 1])\n",
      "Epoch: 2/2, Step 520/1225| Inputs torch.Size([4, 11]) | Labels torch.Size([4, 1])\n",
      "Epoch: 2/2, Step 525/1225| Inputs torch.Size([4, 11]) | Labels torch.Size([4, 1])\n",
      "Epoch: 2/2, Step 530/1225| Inputs torch.Size([4, 11]) | Labels torch.Size([4, 1])\n",
      "Epoch: 2/2, Step 535/1225| Inputs torch.Size([4, 11]) | Labels torch.Size([4, 1])\n",
      "Epoch: 2/2, Step 540/1225| Inputs torch.Size([4, 11]) | Labels torch.Size([4, 1])\n",
      "Epoch: 2/2, Step 545/1225| Inputs torch.Size([4, 11]) | Labels torch.Size([4, 1])\n",
      "Epoch: 2/2, Step 550/1225| Inputs torch.Size([4, 11]) | Labels torch.Size([4, 1])\n",
      "Epoch: 2/2, Step 555/1225| Inputs torch.Size([4, 11]) | Labels torch.Size([4, 1])\n",
      "Epoch: 2/2, Step 560/1225| Inputs torch.Size([4, 11]) | Labels torch.Size([4, 1])\n",
      "Epoch: 2/2, Step 565/1225| Inputs torch.Size([4, 11]) | Labels torch.Size([4, 1])\n",
      "Epoch: 2/2, Step 570/1225| Inputs torch.Size([4, 11]) | Labels torch.Size([4, 1])\n",
      "Epoch: 2/2, Step 575/1225| Inputs torch.Size([4, 11]) | Labels torch.Size([4, 1])\n",
      "Epoch: 2/2, Step 580/1225| Inputs torch.Size([4, 11]) | Labels torch.Size([4, 1])\n",
      "Epoch: 2/2, Step 585/1225| Inputs torch.Size([4, 11]) | Labels torch.Size([4, 1])\n",
      "Epoch: 2/2, Step 590/1225| Inputs torch.Size([4, 11]) | Labels torch.Size([4, 1])\n",
      "Epoch: 2/2, Step 595/1225| Inputs torch.Size([4, 11]) | Labels torch.Size([4, 1])\n",
      "Epoch: 2/2, Step 600/1225| Inputs torch.Size([4, 11]) | Labels torch.Size([4, 1])\n",
      "Epoch: 2/2, Step 605/1225| Inputs torch.Size([4, 11]) | Labels torch.Size([4, 1])\n",
      "Epoch: 2/2, Step 610/1225| Inputs torch.Size([4, 11]) | Labels torch.Size([4, 1])\n",
      "Epoch: 2/2, Step 615/1225| Inputs torch.Size([4, 11]) | Labels torch.Size([4, 1])\n",
      "Epoch: 2/2, Step 620/1225| Inputs torch.Size([4, 11]) | Labels torch.Size([4, 1])\n",
      "Epoch: 2/2, Step 625/1225| Inputs torch.Size([4, 11]) | Labels torch.Size([4, 1])\n",
      "Epoch: 2/2, Step 630/1225| Inputs torch.Size([4, 11]) | Labels torch.Size([4, 1])\n",
      "Epoch: 2/2, Step 635/1225| Inputs torch.Size([4, 11]) | Labels torch.Size([4, 1])\n",
      "Epoch: 2/2, Step 640/1225| Inputs torch.Size([4, 11]) | Labels torch.Size([4, 1])\n"
     ]
    },
    {
     "name": "stdout",
     "output_type": "stream",
     "text": [
      "Epoch: 2/2, Step 645/1225| Inputs torch.Size([4, 11]) | Labels torch.Size([4, 1])\n",
      "Epoch: 2/2, Step 650/1225| Inputs torch.Size([4, 11]) | Labels torch.Size([4, 1])\n",
      "Epoch: 2/2, Step 655/1225| Inputs torch.Size([4, 11]) | Labels torch.Size([4, 1])\n",
      "Epoch: 2/2, Step 660/1225| Inputs torch.Size([4, 11]) | Labels torch.Size([4, 1])\n",
      "Epoch: 2/2, Step 665/1225| Inputs torch.Size([4, 11]) | Labels torch.Size([4, 1])\n",
      "Epoch: 2/2, Step 670/1225| Inputs torch.Size([4, 11]) | Labels torch.Size([4, 1])\n",
      "Epoch: 2/2, Step 675/1225| Inputs torch.Size([4, 11]) | Labels torch.Size([4, 1])\n",
      "Epoch: 2/2, Step 680/1225| Inputs torch.Size([4, 11]) | Labels torch.Size([4, 1])\n",
      "Epoch: 2/2, Step 685/1225| Inputs torch.Size([4, 11]) | Labels torch.Size([4, 1])\n",
      "Epoch: 2/2, Step 690/1225| Inputs torch.Size([4, 11]) | Labels torch.Size([4, 1])\n",
      "Epoch: 2/2, Step 695/1225| Inputs torch.Size([4, 11]) | Labels torch.Size([4, 1])\n",
      "Epoch: 2/2, Step 700/1225| Inputs torch.Size([4, 11]) | Labels torch.Size([4, 1])\n",
      "Epoch: 2/2, Step 705/1225| Inputs torch.Size([4, 11]) | Labels torch.Size([4, 1])\n",
      "Epoch: 2/2, Step 710/1225| Inputs torch.Size([4, 11]) | Labels torch.Size([4, 1])\n",
      "Epoch: 2/2, Step 715/1225| Inputs torch.Size([4, 11]) | Labels torch.Size([4, 1])\n",
      "Epoch: 2/2, Step 720/1225| Inputs torch.Size([4, 11]) | Labels torch.Size([4, 1])\n",
      "Epoch: 2/2, Step 725/1225| Inputs torch.Size([4, 11]) | Labels torch.Size([4, 1])\n",
      "Epoch: 2/2, Step 730/1225| Inputs torch.Size([4, 11]) | Labels torch.Size([4, 1])\n",
      "Epoch: 2/2, Step 735/1225| Inputs torch.Size([4, 11]) | Labels torch.Size([4, 1])\n",
      "Epoch: 2/2, Step 740/1225| Inputs torch.Size([4, 11]) | Labels torch.Size([4, 1])\n",
      "Epoch: 2/2, Step 745/1225| Inputs torch.Size([4, 11]) | Labels torch.Size([4, 1])\n",
      "Epoch: 2/2, Step 750/1225| Inputs torch.Size([4, 11]) | Labels torch.Size([4, 1])\n",
      "Epoch: 2/2, Step 755/1225| Inputs torch.Size([4, 11]) | Labels torch.Size([4, 1])\n",
      "Epoch: 2/2, Step 760/1225| Inputs torch.Size([4, 11]) | Labels torch.Size([4, 1])\n",
      "Epoch: 2/2, Step 765/1225| Inputs torch.Size([4, 11]) | Labels torch.Size([4, 1])\n",
      "Epoch: 2/2, Step 770/1225| Inputs torch.Size([4, 11]) | Labels torch.Size([4, 1])\n",
      "Epoch: 2/2, Step 775/1225| Inputs torch.Size([4, 11]) | Labels torch.Size([4, 1])\n",
      "Epoch: 2/2, Step 780/1225| Inputs torch.Size([4, 11]) | Labels torch.Size([4, 1])\n",
      "Epoch: 2/2, Step 785/1225| Inputs torch.Size([4, 11]) | Labels torch.Size([4, 1])\n",
      "Epoch: 2/2, Step 790/1225| Inputs torch.Size([4, 11]) | Labels torch.Size([4, 1])\n",
      "Epoch: 2/2, Step 795/1225| Inputs torch.Size([4, 11]) | Labels torch.Size([4, 1])\n",
      "Epoch: 2/2, Step 800/1225| Inputs torch.Size([4, 11]) | Labels torch.Size([4, 1])\n",
      "Epoch: 2/2, Step 805/1225| Inputs torch.Size([4, 11]) | Labels torch.Size([4, 1])\n",
      "Epoch: 2/2, Step 810/1225| Inputs torch.Size([4, 11]) | Labels torch.Size([4, 1])\n",
      "Epoch: 2/2, Step 815/1225| Inputs torch.Size([4, 11]) | Labels torch.Size([4, 1])\n",
      "Epoch: 2/2, Step 820/1225| Inputs torch.Size([4, 11]) | Labels torch.Size([4, 1])\n",
      "Epoch: 2/2, Step 825/1225| Inputs torch.Size([4, 11]) | Labels torch.Size([4, 1])\n",
      "Epoch: 2/2, Step 830/1225| Inputs torch.Size([4, 11]) | Labels torch.Size([4, 1])\n",
      "Epoch: 2/2, Step 835/1225| Inputs torch.Size([4, 11]) | Labels torch.Size([4, 1])\n",
      "Epoch: 2/2, Step 840/1225| Inputs torch.Size([4, 11]) | Labels torch.Size([4, 1])\n",
      "Epoch: 2/2, Step 845/1225| Inputs torch.Size([4, 11]) | Labels torch.Size([4, 1])\n",
      "Epoch: 2/2, Step 850/1225| Inputs torch.Size([4, 11]) | Labels torch.Size([4, 1])\n",
      "Epoch: 2/2, Step 855/1225| Inputs torch.Size([4, 11]) | Labels torch.Size([4, 1])\n",
      "Epoch: 2/2, Step 860/1225| Inputs torch.Size([4, 11]) | Labels torch.Size([4, 1])\n",
      "Epoch: 2/2, Step 865/1225| Inputs torch.Size([4, 11]) | Labels torch.Size([4, 1])\n",
      "Epoch: 2/2, Step 870/1225| Inputs torch.Size([4, 11]) | Labels torch.Size([4, 1])\n",
      "Epoch: 2/2, Step 875/1225| Inputs torch.Size([4, 11]) | Labels torch.Size([4, 1])\n",
      "Epoch: 2/2, Step 880/1225| Inputs torch.Size([4, 11]) | Labels torch.Size([4, 1])\n",
      "Epoch: 2/2, Step 885/1225| Inputs torch.Size([4, 11]) | Labels torch.Size([4, 1])\n",
      "Epoch: 2/2, Step 890/1225| Inputs torch.Size([4, 11]) | Labels torch.Size([4, 1])\n",
      "Epoch: 2/2, Step 895/1225| Inputs torch.Size([4, 11]) | Labels torch.Size([4, 1])\n",
      "Epoch: 2/2, Step 900/1225| Inputs torch.Size([4, 11]) | Labels torch.Size([4, 1])\n",
      "Epoch: 2/2, Step 905/1225| Inputs torch.Size([4, 11]) | Labels torch.Size([4, 1])\n",
      "Epoch: 2/2, Step 910/1225| Inputs torch.Size([4, 11]) | Labels torch.Size([4, 1])\n",
      "Epoch: 2/2, Step 915/1225| Inputs torch.Size([4, 11]) | Labels torch.Size([4, 1])\n",
      "Epoch: 2/2, Step 920/1225| Inputs torch.Size([4, 11]) | Labels torch.Size([4, 1])\n",
      "Epoch: 2/2, Step 925/1225| Inputs torch.Size([4, 11]) | Labels torch.Size([4, 1])\n",
      "Epoch: 2/2, Step 930/1225| Inputs torch.Size([4, 11]) | Labels torch.Size([4, 1])\n",
      "Epoch: 2/2, Step 935/1225| Inputs torch.Size([4, 11]) | Labels torch.Size([4, 1])\n",
      "Epoch: 2/2, Step 940/1225| Inputs torch.Size([4, 11]) | Labels torch.Size([4, 1])\n",
      "Epoch: 2/2, Step 945/1225| Inputs torch.Size([4, 11]) | Labels torch.Size([4, 1])\n",
      "Epoch: 2/2, Step 950/1225| Inputs torch.Size([4, 11]) | Labels torch.Size([4, 1])\n",
      "Epoch: 2/2, Step 955/1225| Inputs torch.Size([4, 11]) | Labels torch.Size([4, 1])\n",
      "Epoch: 2/2, Step 960/1225| Inputs torch.Size([4, 11]) | Labels torch.Size([4, 1])\n",
      "Epoch: 2/2, Step 965/1225| Inputs torch.Size([4, 11]) | Labels torch.Size([4, 1])\n",
      "Epoch: 2/2, Step 970/1225| Inputs torch.Size([4, 11]) | Labels torch.Size([4, 1])\n",
      "Epoch: 2/2, Step 975/1225| Inputs torch.Size([4, 11]) | Labels torch.Size([4, 1])\n",
      "Epoch: 2/2, Step 980/1225| Inputs torch.Size([4, 11]) | Labels torch.Size([4, 1])\n",
      "Epoch: 2/2, Step 985/1225| Inputs torch.Size([4, 11]) | Labels torch.Size([4, 1])\n",
      "Epoch: 2/2, Step 990/1225| Inputs torch.Size([4, 11]) | Labels torch.Size([4, 1])\n",
      "Epoch: 2/2, Step 995/1225| Inputs torch.Size([4, 11]) | Labels torch.Size([4, 1])\n",
      "Epoch: 2/2, Step 1000/1225| Inputs torch.Size([4, 11]) | Labels torch.Size([4, 1])\n",
      "Epoch: 2/2, Step 1005/1225| Inputs torch.Size([4, 11]) | Labels torch.Size([4, 1])\n",
      "Epoch: 2/2, Step 1010/1225| Inputs torch.Size([4, 11]) | Labels torch.Size([4, 1])\n",
      "Epoch: 2/2, Step 1015/1225| Inputs torch.Size([4, 11]) | Labels torch.Size([4, 1])\n",
      "Epoch: 2/2, Step 1020/1225| Inputs torch.Size([4, 11]) | Labels torch.Size([4, 1])\n",
      "Epoch: 2/2, Step 1025/1225| Inputs torch.Size([4, 11]) | Labels torch.Size([4, 1])\n",
      "Epoch: 2/2, Step 1030/1225| Inputs torch.Size([4, 11]) | Labels torch.Size([4, 1])\n",
      "Epoch: 2/2, Step 1035/1225| Inputs torch.Size([4, 11]) | Labels torch.Size([4, 1])\n",
      "Epoch: 2/2, Step 1040/1225| Inputs torch.Size([4, 11]) | Labels torch.Size([4, 1])\n",
      "Epoch: 2/2, Step 1045/1225| Inputs torch.Size([4, 11]) | Labels torch.Size([4, 1])\n",
      "Epoch: 2/2, Step 1050/1225| Inputs torch.Size([4, 11]) | Labels torch.Size([4, 1])\n",
      "Epoch: 2/2, Step 1055/1225| Inputs torch.Size([4, 11]) | Labels torch.Size([4, 1])\n",
      "Epoch: 2/2, Step 1060/1225| Inputs torch.Size([4, 11]) | Labels torch.Size([4, 1])\n",
      "Epoch: 2/2, Step 1065/1225| Inputs torch.Size([4, 11]) | Labels torch.Size([4, 1])\n",
      "Epoch: 2/2, Step 1070/1225| Inputs torch.Size([4, 11]) | Labels torch.Size([4, 1])\n",
      "Epoch: 2/2, Step 1075/1225| Inputs torch.Size([4, 11]) | Labels torch.Size([4, 1])\n",
      "Epoch: 2/2, Step 1080/1225| Inputs torch.Size([4, 11]) | Labels torch.Size([4, 1])\n",
      "Epoch: 2/2, Step 1085/1225| Inputs torch.Size([4, 11]) | Labels torch.Size([4, 1])\n",
      "Epoch: 2/2, Step 1090/1225| Inputs torch.Size([4, 11]) | Labels torch.Size([4, 1])\n",
      "Epoch: 2/2, Step 1095/1225| Inputs torch.Size([4, 11]) | Labels torch.Size([4, 1])\n",
      "Epoch: 2/2, Step 1100/1225| Inputs torch.Size([4, 11]) | Labels torch.Size([4, 1])\n",
      "Epoch: 2/2, Step 1105/1225| Inputs torch.Size([4, 11]) | Labels torch.Size([4, 1])\n",
      "Epoch: 2/2, Step 1110/1225| Inputs torch.Size([4, 11]) | Labels torch.Size([4, 1])\n",
      "Epoch: 2/2, Step 1115/1225| Inputs torch.Size([4, 11]) | Labels torch.Size([4, 1])\n",
      "Epoch: 2/2, Step 1120/1225| Inputs torch.Size([4, 11]) | Labels torch.Size([4, 1])\n",
      "Epoch: 2/2, Step 1125/1225| Inputs torch.Size([4, 11]) | Labels torch.Size([4, 1])\n",
      "Epoch: 2/2, Step 1130/1225| Inputs torch.Size([4, 11]) | Labels torch.Size([4, 1])\n",
      "Epoch: 2/2, Step 1135/1225| Inputs torch.Size([4, 11]) | Labels torch.Size([4, 1])\n",
      "Epoch: 2/2, Step 1140/1225| Inputs torch.Size([4, 11]) | Labels torch.Size([4, 1])\n",
      "Epoch: 2/2, Step 1145/1225| Inputs torch.Size([4, 11]) | Labels torch.Size([4, 1])\n",
      "Epoch: 2/2, Step 1150/1225| Inputs torch.Size([4, 11]) | Labels torch.Size([4, 1])\n",
      "Epoch: 2/2, Step 1155/1225| Inputs torch.Size([4, 11]) | Labels torch.Size([4, 1])\n",
      "Epoch: 2/2, Step 1160/1225| Inputs torch.Size([4, 11]) | Labels torch.Size([4, 1])\n",
      "Epoch: 2/2, Step 1165/1225| Inputs torch.Size([4, 11]) | Labels torch.Size([4, 1])\n",
      "Epoch: 2/2, Step 1170/1225| Inputs torch.Size([4, 11]) | Labels torch.Size([4, 1])\n",
      "Epoch: 2/2, Step 1175/1225| Inputs torch.Size([4, 11]) | Labels torch.Size([4, 1])\n",
      "Epoch: 2/2, Step 1180/1225| Inputs torch.Size([4, 11]) | Labels torch.Size([4, 1])\n",
      "Epoch: 2/2, Step 1185/1225| Inputs torch.Size([4, 11]) | Labels torch.Size([4, 1])\n",
      "Epoch: 2/2, Step 1190/1225| Inputs torch.Size([4, 11]) | Labels torch.Size([4, 1])\n",
      "Epoch: 2/2, Step 1195/1225| Inputs torch.Size([4, 11]) | Labels torch.Size([4, 1])\n",
      "Epoch: 2/2, Step 1200/1225| Inputs torch.Size([4, 11]) | Labels torch.Size([4, 1])\n"
     ]
    },
    {
     "name": "stdout",
     "output_type": "stream",
     "text": [
      "Epoch: 2/2, Step 1205/1225| Inputs torch.Size([4, 11]) | Labels torch.Size([4, 1])\n",
      "Epoch: 2/2, Step 1210/1225| Inputs torch.Size([4, 11]) | Labels torch.Size([4, 1])\n",
      "Epoch: 2/2, Step 1215/1225| Inputs torch.Size([4, 11]) | Labels torch.Size([4, 1])\n",
      "Epoch: 2/2, Step 1220/1225| Inputs torch.Size([4, 11]) | Labels torch.Size([4, 1])\n",
      "Epoch: 2/2, Step 1225/1225| Inputs torch.Size([2, 11]) | Labels torch.Size([2, 1])\n"
     ]
    }
   ],
   "source": [
    "for epoch in range(num_epochs):\n",
    "    for i, (inputs, labels) in enumerate(train_loader):\n",
    "        \n",
    "        # here: 178 samples, batch_size = 4, n_iters=178/4=44.5 -> 45 iterations\n",
    "        # Run your training process\n",
    "        if (i+1) % 5 == 0:\n",
    "            print(f'Epoch: {epoch+1}/{num_epochs}, Step {i+1}/{n_iterations}| Inputs {inputs.shape} | Labels {labels.shape}')"
   ]
  },
  {
   "cell_type": "code",
   "execution_count": 19,
   "metadata": {},
   "outputs": [],
   "source": [
    "# s datasets are available in torchvision.datasets\n",
    "# e.g. MNIST, Fashion-MNIST, CIFAR10, COCO\n",
    "\n",
    "train_dataset = torchvision.datasets.MNIST(root='./data', \n",
    "                                           train=True, \n",
    "                                           transform=torchvision.transforms.ToTensor(),  \n",
    "                                           download=True)\n",
    "\n",
    "train_loader = DataLoader(dataset=train_dataset, \n",
    "                                           batch_size=3, \n",
    "                                           shuffle=True)"
   ]
  },
  {
   "cell_type": "code",
   "execution_count": 20,
   "metadata": {},
   "outputs": [
    {
     "name": "stdout",
     "output_type": "stream",
     "text": [
      "torch.Size([3, 1, 28, 28]) torch.Size([3])\n"
     ]
    }
   ],
   "source": [
    "# look at one random sample\n",
    "dataiter = iter(train_loader)\n",
    "data = dataiter.next()\n",
    "inputs, targets = data\n",
    "print(inputs.shape, targets.shape)"
   ]
  },
  {
   "cell_type": "code",
   "execution_count": 21,
   "metadata": {},
   "outputs": [
    {
     "data": {
      "text/plain": [
       "tensor([[[0.0000, 0.0000, 0.0000, 0.0000, 0.0000, 0.0000, 0.0000, 0.0000,\n",
       "          0.0000, 0.0000, 0.0000, 0.0000, 0.0000, 0.0000, 0.0000, 0.0000,\n",
       "          0.0000, 0.0000, 0.0000, 0.0000, 0.0000, 0.0000, 0.0000, 0.0000,\n",
       "          0.0000, 0.0000, 0.0000, 0.0000],\n",
       "         [0.0000, 0.0000, 0.0000, 0.0000, 0.0000, 0.0000, 0.0000, 0.0000,\n",
       "          0.0000, 0.0000, 0.0000, 0.0000, 0.0000, 0.0000, 0.0000, 0.0000,\n",
       "          0.0000, 0.0000, 0.0000, 0.0000, 0.0000, 0.0000, 0.0000, 0.0000,\n",
       "          0.0000, 0.0000, 0.0000, 0.0000],\n",
       "         [0.0000, 0.0000, 0.0000, 0.0000, 0.0000, 0.0000, 0.0000, 0.0000,\n",
       "          0.0000, 0.0000, 0.0000, 0.0000, 0.0000, 0.0000, 0.0000, 0.0000,\n",
       "          0.0000, 0.0000, 0.0000, 0.0000, 0.0000, 0.0000, 0.0000, 0.0000,\n",
       "          0.0000, 0.0000, 0.0000, 0.0000],\n",
       "         [0.0000, 0.0000, 0.0000, 0.0000, 0.0000, 0.0000, 0.0000, 0.0000,\n",
       "          0.0000, 0.0000, 0.0000, 0.0000, 0.0000, 0.0000, 0.0000, 0.0000,\n",
       "          0.0000, 0.0000, 0.0000, 0.0000, 0.0000, 0.0000, 0.0000, 0.0000,\n",
       "          0.0000, 0.0000, 0.0000, 0.0000],\n",
       "         [0.0000, 0.0000, 0.0000, 0.0000, 0.0000, 0.0000, 0.0000, 0.0000,\n",
       "          0.0000, 0.0000, 0.0000, 0.0000, 0.0000, 0.0000, 0.0000, 0.0000,\n",
       "          0.0000, 0.0000, 0.0000, 0.0000, 0.0000, 0.0000, 0.0000, 0.0000,\n",
       "          0.0000, 0.0000, 0.0000, 0.0000],\n",
       "         [0.0000, 0.0000, 0.0000, 0.0000, 0.0000, 0.0000, 0.0000, 0.0000,\n",
       "          0.0000, 0.0000, 0.0000, 0.0000, 0.0000, 0.0000, 0.0000, 0.0000,\n",
       "          0.0000, 0.0000, 0.0000, 0.0000, 0.0000, 0.0000, 0.0000, 0.0000,\n",
       "          0.0000, 0.0000, 0.0000, 0.0000],\n",
       "         [0.0000, 0.0000, 0.0000, 0.0000, 0.0000, 0.0000, 0.0000, 0.0000,\n",
       "          0.0000, 0.0000, 0.0000, 0.0000, 0.0000, 0.0000, 0.0000, 0.0000,\n",
       "          0.0000, 0.0000, 0.0000, 0.0000, 0.0000, 0.0000, 0.0000, 0.0000,\n",
       "          0.0000, 0.0000, 0.0000, 0.0000],\n",
       "         [0.0000, 0.0000, 0.0000, 0.0000, 0.0000, 0.1255, 0.8980, 0.6000,\n",
       "          0.0510, 0.0000, 0.0000, 0.0000, 0.0000, 0.0000, 0.0000, 0.0000,\n",
       "          0.0000, 0.0000, 0.0000, 0.1020, 0.0510, 0.0000, 0.0000, 0.0000,\n",
       "          0.0000, 0.0000, 0.0000, 0.0000],\n",
       "         [0.0000, 0.0000, 0.0000, 0.0000, 0.0000, 0.0745, 0.8431, 0.9882,\n",
       "          0.8118, 0.6627, 0.3216, 0.1255, 0.0000, 0.0000, 0.0000, 0.0000,\n",
       "          0.0000, 0.1490, 0.5647, 0.9529, 0.8118, 0.3216, 0.0000, 0.0000,\n",
       "          0.0000, 0.0000, 0.0000, 0.0000],\n",
       "         [0.0000, 0.0000, 0.0000, 0.0000, 0.0000, 0.0000, 0.7725, 0.9882,\n",
       "          0.9922, 0.9882, 0.9882, 0.8941, 0.5294, 0.3333, 0.3333, 0.3333,\n",
       "          0.5765, 0.9176, 0.9882, 0.9882, 0.9922, 0.8431, 0.0745, 0.0000,\n",
       "          0.0000, 0.0000, 0.0000, 0.0000],\n",
       "         [0.0000, 0.0000, 0.0000, 0.0000, 0.0000, 0.0000, 0.7725, 0.9882,\n",
       "          0.9451, 0.8431, 0.9882, 0.9882, 0.9922, 0.9882, 0.9882, 0.9882,\n",
       "          0.9922, 0.9882, 0.9882, 0.9882, 0.9922, 0.9882, 0.2196, 0.0000,\n",
       "          0.0000, 0.0000, 0.0000, 0.0000],\n",
       "         [0.0000, 0.0000, 0.0000, 0.0000, 0.0000, 0.0000, 0.7765, 0.9922,\n",
       "          0.8863, 0.0000, 0.3490, 0.6392, 0.8863, 0.8824, 0.8824, 0.8824,\n",
       "          0.8392, 0.3451, 0.0000, 0.4471, 1.0000, 0.7725, 0.0000, 0.0000,\n",
       "          0.0000, 0.0000, 0.0000, 0.0000],\n",
       "         [0.0000, 0.0000, 0.0000, 0.0000, 0.0000, 0.0000, 0.6745, 0.9882,\n",
       "          0.8824, 0.0000, 0.0000, 0.0000, 0.0000, 0.0000, 0.0000, 0.0000,\n",
       "          0.0000, 0.0000, 0.0000, 0.4431, 0.9922, 0.7686, 0.0000, 0.0000,\n",
       "          0.0000, 0.0000, 0.0000, 0.0000],\n",
       "         [0.0000, 0.0000, 0.0000, 0.0000, 0.0000, 0.0000, 0.3333, 0.9882,\n",
       "          0.8824, 0.0000, 0.0000, 0.0000, 0.0000, 0.0000, 0.0000, 0.0000,\n",
       "          0.0000, 0.0000, 0.0000, 0.4431, 0.9922, 0.7686, 0.0000, 0.0000,\n",
       "          0.0000, 0.0000, 0.0000, 0.0000],\n",
       "         [0.0000, 0.0000, 0.0000, 0.0000, 0.0000, 0.0000, 0.1843, 0.9412,\n",
       "          0.8824, 0.0000, 0.0000, 0.0000, 0.0000, 0.0000, 0.0000, 0.0000,\n",
       "          0.0000, 0.0000, 0.0000, 0.4431, 0.9922, 0.3765, 0.0000, 0.0000,\n",
       "          0.0000, 0.0000, 0.0000, 0.0000],\n",
       "         [0.0000, 0.0000, 0.0000, 0.0000, 0.0000, 0.0000, 0.0000, 0.8863,\n",
       "          0.9961, 0.3294, 0.0000, 0.0000, 0.0000, 0.0000, 0.0000, 0.0000,\n",
       "          0.0000, 0.0000, 0.0000, 0.8863, 0.9961, 0.3294, 0.0000, 0.0000,\n",
       "          0.0000, 0.0000, 0.0000, 0.0000],\n",
       "         [0.0000, 0.0000, 0.0000, 0.0000, 0.0000, 0.0000, 0.0000, 0.5882,\n",
       "          0.9922, 0.4275, 0.0000, 0.0000, 0.0000, 0.0000, 0.0000, 0.0000,\n",
       "          0.0000, 0.0000, 0.0000, 0.8824, 0.9922, 0.3294, 0.0000, 0.0000,\n",
       "          0.0000, 0.0000, 0.0000, 0.0000],\n",
       "         [0.0000, 0.0000, 0.0000, 0.0000, 0.0000, 0.0000, 0.0000, 0.2980,\n",
       "          0.9922, 0.7686, 0.0000, 0.0000, 0.0000, 0.0000, 0.0000, 0.0000,\n",
       "          0.0000, 0.0000, 0.2627, 0.9647, 0.9059, 0.0745, 0.0000, 0.0000,\n",
       "          0.0000, 0.0000, 0.0000, 0.0000],\n",
       "         [0.0000, 0.0000, 0.0000, 0.0000, 0.0000, 0.0000, 0.0000, 0.0000,\n",
       "          0.7961, 0.7686, 0.0000, 0.0000, 0.0000, 0.0000, 0.0000, 0.0000,\n",
       "          0.0000, 0.0000, 0.3333, 0.9882, 0.8824, 0.0000, 0.0000, 0.0000,\n",
       "          0.0000, 0.0000, 0.0000, 0.0000],\n",
       "         [0.0000, 0.0000, 0.0000, 0.0000, 0.0000, 0.0000, 0.0000, 0.0000,\n",
       "          0.0510, 0.3451, 0.0000, 0.0000, 0.0000, 0.0000, 0.0000, 0.0000,\n",
       "          0.0000, 0.0000, 0.5765, 0.9922, 0.8863, 0.0000, 0.0000, 0.0000,\n",
       "          0.0000, 0.0000, 0.0000, 0.0000],\n",
       "         [0.0000, 0.0000, 0.0000, 0.0000, 0.0000, 0.0000, 0.0000, 0.0000,\n",
       "          0.0000, 0.0000, 0.0000, 0.0000, 0.0000, 0.0000, 0.0000, 0.0000,\n",
       "          0.0000, 0.0000, 0.7725, 0.9882, 0.8824, 0.0000, 0.0000, 0.0000,\n",
       "          0.0000, 0.0000, 0.0000, 0.0000],\n",
       "         [0.0000, 0.0000, 0.0000, 0.0000, 0.0000, 0.0000, 0.0000, 0.0000,\n",
       "          0.0000, 0.0000, 0.0000, 0.0000, 0.0000, 0.0000, 0.0000, 0.0000,\n",
       "          0.0000, 0.0000, 0.7725, 0.9882, 0.8824, 0.0000, 0.0000, 0.0000,\n",
       "          0.0000, 0.0000, 0.0000, 0.0000],\n",
       "         [0.0000, 0.0000, 0.0000, 0.0000, 0.0000, 0.0000, 0.0000, 0.0000,\n",
       "          0.0000, 0.0000, 0.0000, 0.0000, 0.0000, 0.0000, 0.0000, 0.0000,\n",
       "          0.0000, 0.0000, 0.7725, 0.9882, 0.4902, 0.0000, 0.0000, 0.0000,\n",
       "          0.0000, 0.0000, 0.0000, 0.0000],\n",
       "         [0.0000, 0.0000, 0.0000, 0.0000, 0.0000, 0.0000, 0.0000, 0.0000,\n",
       "          0.0000, 0.0000, 0.0000, 0.0000, 0.0000, 0.0000, 0.0000, 0.0000,\n",
       "          0.0000, 0.0000, 0.7765, 0.9922, 0.4471, 0.0000, 0.0000, 0.0000,\n",
       "          0.0000, 0.0000, 0.0000, 0.0000],\n",
       "         [0.0000, 0.0000, 0.0000, 0.0000, 0.0000, 0.0000, 0.0000, 0.0000,\n",
       "          0.0000, 0.0000, 0.0000, 0.0000, 0.0000, 0.0000, 0.0000, 0.0000,\n",
       "          0.0000, 0.0000, 0.7725, 0.9882, 0.7373, 0.0000, 0.0000, 0.0000,\n",
       "          0.0000, 0.0000, 0.0000, 0.0000],\n",
       "         [0.0000, 0.0000, 0.0000, 0.0000, 0.0000, 0.0000, 0.0000, 0.0000,\n",
       "          0.0000, 0.0000, 0.0000, 0.0000, 0.0000, 0.0000, 0.0000, 0.0000,\n",
       "          0.0000, 0.0000, 0.7725, 0.9882, 0.8824, 0.0000, 0.0000, 0.0000,\n",
       "          0.0000, 0.0000, 0.0000, 0.0000],\n",
       "         [0.0000, 0.0000, 0.0000, 0.0000, 0.0000, 0.0000, 0.0000, 0.0000,\n",
       "          0.0000, 0.0000, 0.0000, 0.0000, 0.0000, 0.0000, 0.0000, 0.0000,\n",
       "          0.0000, 0.0000, 0.4314, 0.7451, 0.2941, 0.0000, 0.0000, 0.0000,\n",
       "          0.0000, 0.0000, 0.0000, 0.0000],\n",
       "         [0.0000, 0.0000, 0.0000, 0.0000, 0.0000, 0.0000, 0.0000, 0.0000,\n",
       "          0.0000, 0.0000, 0.0000, 0.0000, 0.0000, 0.0000, 0.0000, 0.0000,\n",
       "          0.0000, 0.0000, 0.0000, 0.0000, 0.0000, 0.0000, 0.0000, 0.0000,\n",
       "          0.0000, 0.0000, 0.0000, 0.0000]]])"
      ]
     },
     "execution_count": 21,
     "metadata": {},
     "output_type": "execute_result"
    }
   ],
   "source": [
    "inputs[1]"
   ]
  },
  {
   "cell_type": "code",
   "execution_count": 22,
   "metadata": {},
   "outputs": [
    {
     "data": {
      "text/plain": [
       "tensor(7)"
      ]
     },
     "execution_count": 22,
     "metadata": {},
     "output_type": "execute_result"
    }
   ],
   "source": [
    "targets[1]"
   ]
  },
  {
   "cell_type": "markdown",
   "metadata": {},
   "source": [
    "### Transformers"
   ]
  },
  {
   "cell_type": "markdown",
   "metadata": {},
   "source": [
    "Transforms can be applied to PIL images, tensors, ndarrays, or custom data\n",
    "during creation of the DataSet\n",
    "complete list of built-in transforms: \n",
    "https://pytorch.org/docs/stable/torchvision/transforms.html\n",
    "\n",
    "#### On Images\n",
    "\n",
    "CenterCrop, Grayscale, Pad, RandomAffine\n",
    "RandomCrop, RandomHorizontalFlip, RandomRotation\n",
    "Resize, Scale\n",
    "\n",
    "#### On Tensors\n",
    "----------\n",
    "LinearTransformation, Normalize, RandomErasing\n",
    "\n",
    "#### Conversion\n",
    "----------\n",
    "ToPILImage: from tensor or ndrarray\n",
    "ToTensor : from numpy.ndarray or PILImage\n",
    "\n",
    "#### Generic\n",
    "-------\n",
    "Use Lambda \n",
    "\n",
    "#### Custom\n",
    "------\n",
    "Write own class\n",
    "\n",
    "#### Compose multiple Transforms\n",
    "---------------------------\n",
    "composed = transforms.Compose([Rescale(256),\n",
    "                               RandomCrop(224)])"
   ]
  },
  {
   "cell_type": "code",
   "execution_count": 23,
   "metadata": {},
   "outputs": [],
   "source": [
    "import torch\n",
    "import torchvision\n",
    "from torch.utils.data import Dataset\n",
    "import numpy as np"
   ]
  },
  {
   "cell_type": "code",
   "execution_count": null,
   "metadata": {},
   "outputs": [],
   "source": []
  },
  {
   "cell_type": "code",
   "execution_count": 30,
   "metadata": {},
   "outputs": [],
   "source": [
    "class WineDataset(Dataset):\n",
    "    \n",
    "    def __init__(self,transform=None):\n",
    "        xy= np.loadtxt(DATASETPATH,delimiter=',',dtype=np.float32, skiprows=1)\n",
    "        self.n_samples = xy.shape[0]\n",
    "        self.x_data = xy[:,:11]\n",
    "        self.y_data= xy[:,[11]]\n",
    "        self.transform = transform\n",
    "\n",
    "    def __getitem__(self, index):\n",
    "        sample = self.x_data[index], self.y_data[index]\n",
    "\n",
    "        if self.transform:\n",
    "            sample = self.transform(sample)\n",
    "\n",
    "        return sample\n",
    "\n",
    "    def __len__(self):\n",
    "        return self.n_samples"
   ]
  },
  {
   "cell_type": "markdown",
   "metadata": {},
   "source": [
    "#### Without Transform'"
   ]
  },
  {
   "cell_type": "code",
   "execution_count": 31,
   "metadata": {},
   "outputs": [
    {
     "name": "stdout",
     "output_type": "stream",
     "text": [
      "Without Transform\n"
     ]
    },
    {
     "data": {
      "text/plain": [
       "(array([7.000e+00, 2.700e-01, 3.600e-01, 2.070e+01, 4.500e-02, 4.500e+01,\n",
       "        1.700e+02, 1.001e+00, 3.000e+00, 4.500e-01, 8.800e+00],\n",
       "       dtype=float32),\n",
       " array([6.], dtype=float32))"
      ]
     },
     "execution_count": 31,
     "metadata": {},
     "output_type": "execute_result"
    }
   ],
   "source": [
    "print('Without Transform')\n",
    "dataset_without_trans = WineDataset()\n",
    "first_data = dataset_without_trans[0]\n",
    "first_data"
   ]
  },
  {
   "cell_type": "code",
   "execution_count": 32,
   "metadata": {},
   "outputs": [
    {
     "name": "stdout",
     "output_type": "stream",
     "text": [
      "<class 'numpy.ndarray'> <class 'numpy.ndarray'>\n",
      "[7.000e+00 2.700e-01 3.600e-01 2.070e+01 4.500e-02 4.500e+01 1.700e+02\n",
      " 1.001e+00 3.000e+00 4.500e-01 8.800e+00] [6.]\n"
     ]
    }
   ],
   "source": [
    "features, labels = first_data\n",
    "print(type(features), type(labels))\n",
    "print(features, labels)"
   ]
  },
  {
   "cell_type": "markdown",
   "metadata": {},
   "source": [
    "#### With Tensor Transform"
   ]
  },
  {
   "cell_type": "code",
   "execution_count": 33,
   "metadata": {},
   "outputs": [],
   "source": [
    "# Custom Transforms\n",
    "# implement __call__(self, sample)\n",
    "class ToTensor:\n",
    "    # Convert ndarrays to Tensors\n",
    "    def __call__(self, sample):\n",
    "        inputs, targets = sample\n",
    "        return torch.from_numpy(inputs), torch.from_numpy(targets)"
   ]
  },
  {
   "cell_type": "code",
   "execution_count": 34,
   "metadata": {},
   "outputs": [
    {
     "name": "stdout",
     "output_type": "stream",
     "text": [
      "\n",
      "With Tensor Transform\n",
      "<class 'torch.Tensor'> <class 'torch.Tensor'>\n",
      "tensor([7.0000e+00, 2.7000e-01, 3.6000e-01, 2.0700e+01, 4.5000e-02, 4.5000e+01,\n",
      "        1.7000e+02, 1.0010e+00, 3.0000e+00, 4.5000e-01, 8.8000e+00]) tensor([6.])\n"
     ]
    }
   ],
   "source": [
    "print('\\nWith Tensor Transform')\n",
    "dataset = WineDataset(transform=ToTensor())\n",
    "first_data = dataset[0]\n",
    "features, labels = first_data\n",
    "print(type(features), type(labels))\n",
    "print(features, labels)"
   ]
  },
  {
   "cell_type": "markdown",
   "metadata": {},
   "source": [
    "#### With Tensor and Multiplication Transform"
   ]
  },
  {
   "cell_type": "code",
   "execution_count": 35,
   "metadata": {},
   "outputs": [],
   "source": [
    "class MulTransform:\n",
    "    # multiply inputs with a given factor\n",
    "    def __init__(self, factor):\n",
    "        self.factor = factor\n",
    "\n",
    "    def __call__(self, sample):\n",
    "        inputs, targets = sample\n",
    "        inputs *= self.factor\n",
    "        return inputs, targets"
   ]
  },
  {
   "cell_type": "code",
   "execution_count": 36,
   "metadata": {},
   "outputs": [
    {
     "name": "stdout",
     "output_type": "stream",
     "text": [
      "\n",
      "With Tensor and Multiplication Transform\n",
      "<class 'torch.Tensor'> <class 'torch.Tensor'>\n",
      "tensor([2.8000e+01, 1.0800e+00, 1.4400e+00, 8.2800e+01, 1.8000e-01, 1.8000e+02,\n",
      "        6.8000e+02, 4.0040e+00, 1.2000e+01, 1.8000e+00, 3.5200e+01]) tensor([6.])\n"
     ]
    }
   ],
   "source": [
    "print('\\nWith Tensor and Multiplication Transform')\n",
    "composed = torchvision.transforms.Compose([ToTensor(), MulTransform(4)])\n",
    "dataset = WineDataset(transform=composed)\n",
    "first_data = dataset[0]\n",
    "features, labels = first_data\n",
    "print(type(features), type(labels))\n",
    "print(features, labels)"
   ]
  },
  {
   "cell_type": "code",
   "execution_count": null,
   "metadata": {},
   "outputs": [],
   "source": []
  }
 ],
 "metadata": {
  "kernelspec": {
   "display_name": "Python 3",
   "language": "python",
   "name": "python3"
  },
  "language_info": {
   "codemirror_mode": {
    "name": "ipython",
    "version": 3
   },
   "file_extension": ".py",
   "mimetype": "text/x-python",
   "name": "python",
   "nbconvert_exporter": "python",
   "pygments_lexer": "ipython3",
   "version": "3.7.3"
  }
 },
 "nbformat": 4,
 "nbformat_minor": 4
}
